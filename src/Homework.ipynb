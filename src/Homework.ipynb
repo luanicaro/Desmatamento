{
 "cells": [
  {
   "cell_type": "code",
   "execution_count": 511,
   "metadata": {},
   "outputs": [],
   "source": [
    "import pandas as pd\n",
    "import seaborn as sns\n",
    "import matplotlib.pyplot as plt\n",
    "import numpy as np\n",
    "from sklearn import preprocessing\n",
    "from sklearn.preprocessing import StandardScaler\n",
    "from sklearn.decomposition import PCA\n",
    "from sklearn.preprocessing import PowerTransformer\n",
    "from scipy.stats import skew\n",
    "from scipy.stats import lognorm\n",
    "import plotly.express as px\n",
    "import plotly.graph_objects as go\n",
    "import warnings\n",
    "warnings.filterwarnings(\"ignore\")\n",
    "%matplotlib inline\n",
    "\n",
    "\n",
    "\n",
    "forest = pd.read_csv('./csv/forest.csv', sep = ',')\n",
    "forest_area = pd.read_csv('./csv/forest_area.csv', sep = ',')\n",
    "brazil_loss = pd.read_csv('./csv/brazil_loss.csv', sep = ',')\n",
    "soybean_use = pd.read_csv('./csv/soybean_use.csv', sep = ',')\n",
    "vegetable_oil = pd.read_csv('./csv/vegetable_oil.csv', sep = ',')\n",
    "population = pd.read_csv('./csv/population.csv', index_col=[0], sep = ',')\n",
    "pd.set_option(\"max_rows\", 200)\n",
    "sns.set_style('darkgrid')\n",
    "def tamanhoPlot(x, y):\n",
    "    fig_dims = (x, y)\n",
    "    fig, ax = plt.subplots(figsize=fig_dims)\n",
    "    return ax"
   ]
  },
  {
   "cell_type": "code",
   "execution_count": 512,
   "metadata": {},
   "outputs": [],
   "source": [
    "def filtro(df):\n",
    "    df1 = df[(df.Código.notna()) & (df['Entidade'] != 'World')]\n",
    "    df1.dropna(inplace=True)\n",
    "    return df1"
   ]
  },
  {
   "cell_type": "markdown",
   "metadata": {},
   "source": [
    "# Criando o dataframe do desmatamento"
   ]
  },
  {
   "cell_type": "code",
   "execution_count": 513,
   "metadata": {},
   "outputs": [
    {
     "data": {
      "text/html": [
       "<div>\n",
       "<style scoped>\n",
       "    .dataframe tbody tr th:only-of-type {\n",
       "        vertical-align: middle;\n",
       "    }\n",
       "\n",
       "    .dataframe tbody tr th {\n",
       "        vertical-align: top;\n",
       "    }\n",
       "\n",
       "    .dataframe thead th {\n",
       "        text-align: right;\n",
       "    }\n",
       "</style>\n",
       "<table border=\"1\" class=\"dataframe\">\n",
       "  <thead>\n",
       "    <tr style=\"text-align: right;\">\n",
       "      <th></th>\n",
       "      <th>Entidade</th>\n",
       "      <th>Código</th>\n",
       "      <th>Ano</th>\n",
       "      <th>Conversão_líquida_de_floresta</th>\n",
       "    </tr>\n",
       "  </thead>\n",
       "  <tbody>\n",
       "    <tr>\n",
       "      <th>47</th>\n",
       "      <td>Brazil</td>\n",
       "      <td>BRA</td>\n",
       "      <td>2000</td>\n",
       "      <td>-3950790.0</td>\n",
       "    </tr>\n",
       "    <tr>\n",
       "      <th>46</th>\n",
       "      <td>Brazil</td>\n",
       "      <td>BRA</td>\n",
       "      <td>1990</td>\n",
       "      <td>-3780940.0</td>\n",
       "    </tr>\n",
       "    <tr>\n",
       "      <th>195</th>\n",
       "      <td>Indonesia</td>\n",
       "      <td>IDN</td>\n",
       "      <td>1990</td>\n",
       "      <td>-1726500.0</td>\n",
       "    </tr>\n",
       "    <tr>\n",
       "      <th>48</th>\n",
       "      <td>Brazil</td>\n",
       "      <td>BRA</td>\n",
       "      <td>2010</td>\n",
       "      <td>-1539180.0</td>\n",
       "    </tr>\n",
       "    <tr>\n",
       "      <th>49</th>\n",
       "      <td>Brazil</td>\n",
       "      <td>BRA</td>\n",
       "      <td>2015</td>\n",
       "      <td>-1453040.0</td>\n",
       "    </tr>\n",
       "    <tr>\n",
       "      <th>...</th>\n",
       "      <td>...</td>\n",
       "      <td>...</td>\n",
       "      <td>...</td>\n",
       "      <td>...</td>\n",
       "    </tr>\n",
       "    <tr>\n",
       "      <th>14</th>\n",
       "      <td>Australia</td>\n",
       "      <td>AUS</td>\n",
       "      <td>2010</td>\n",
       "      <td>709680.0</td>\n",
       "    </tr>\n",
       "    <tr>\n",
       "      <th>83</th>\n",
       "      <td>China</td>\n",
       "      <td>CHN</td>\n",
       "      <td>2010</td>\n",
       "      <td>1936770.0</td>\n",
       "    </tr>\n",
       "    <tr>\n",
       "      <th>84</th>\n",
       "      <td>China</td>\n",
       "      <td>CHN</td>\n",
       "      <td>2015</td>\n",
       "      <td>1936790.0</td>\n",
       "    </tr>\n",
       "    <tr>\n",
       "      <th>81</th>\n",
       "      <td>China</td>\n",
       "      <td>CHN</td>\n",
       "      <td>1990</td>\n",
       "      <td>1986000.0</td>\n",
       "    </tr>\n",
       "    <tr>\n",
       "      <th>82</th>\n",
       "      <td>China</td>\n",
       "      <td>CHN</td>\n",
       "      <td>2000</td>\n",
       "      <td>2360980.0</td>\n",
       "    </tr>\n",
       "  </tbody>\n",
       "</table>\n",
       "<p>463 rows × 4 columns</p>\n",
       "</div>"
      ],
      "text/plain": [
       "      Entidade Código   Ano  Conversão_líquida_de_floresta\n",
       "47      Brazil    BRA  2000                     -3950790.0\n",
       "46      Brazil    BRA  1990                     -3780940.0\n",
       "195  Indonesia    IDN  1990                     -1726500.0\n",
       "48      Brazil    BRA  2010                     -1539180.0\n",
       "49      Brazil    BRA  2015                     -1453040.0\n",
       "..         ...    ...   ...                            ...\n",
       "14   Australia    AUS  2010                       709680.0\n",
       "83       China    CHN  2010                      1936770.0\n",
       "84       China    CHN  2015                      1936790.0\n",
       "81       China    CHN  1990                      1986000.0\n",
       "82       China    CHN  2000                      2360980.0\n",
       "\n",
       "[463 rows x 4 columns]"
      ]
     },
     "execution_count": 513,
     "metadata": {},
     "output_type": "execute_result"
    }
   ],
   "source": [
    "data = filtro(forest)\n",
    "data.sort_values(['Conversão_líquida_de_floresta'], inplace=True)\n",
    "data"
   ]
  },
  {
   "cell_type": "code",
   "execution_count": 514,
   "metadata": {},
   "outputs": [],
   "source": [
    "data_area = forest_area[(forest_area.Código.notna()) &(forest_area['Entidade'] != 'World')]\n",
    "data_f = filtro(forest)\n",
    "data_area.sort_values('Área_de_Floresta', ascending=False, inplace=True)\n",
    "\n",
    "data = pd.merge(data_f, data_area)\n",
    "data.sort_values(['Área_de_Floresta'], ascending=False, inplace=True)\n",
    "data_vo = filtro(vegetable_oil)\n",
    "data_test = data_vo.groupby(['Entidade','Código','Ano']).Produção_Óleo.sum().reset_index()\n",
    "data = pd.merge(data, data_test)\n"
   ]
  },
  {
   "cell_type": "code",
   "execution_count": 515,
   "metadata": {},
   "outputs": [],
   "source": [
    "data = pd.merge(data, population)\n",
    "data['Perde'] = np.select((data.Conversão_líquida_de_floresta<0, data.Conversão_líquida_de_floresta>0), (1,0), 1)\n",
    "def normalizaPelaPop(data):\n",
    "    data.Área_de_Floresta = data.Área_de_Floresta / data.População\n",
    "    data.Conversão_líquida_de_floresta = data.Conversão_líquida_de_floresta / data.População\n",
    "    data.Produção_Óleo = data.Produção_Óleo / data.População\n",
    "    return data\n",
    "\n",
    "#data = normalizaPelaPop(data)\n",
    "def separaData(data):\n",
    "    return data.iloc[:,:3], data.iloc[:,4:7], data.iloc[:,3:4], data.iloc[:,7:8]\n",
    "data_string, data_value,  y, target = separaData(data)\n"
   ]
  },
  {
   "cell_type": "markdown",
   "metadata": {},
   "source": [
    "# Exploratore Analysis"
   ]
  },
  {
   "cell_type": "code",
   "execution_count": 516,
   "metadata": {},
   "outputs": [
    {
     "data": {
      "text/html": [
       "<div>\n",
       "<style scoped>\n",
       "    .dataframe tbody tr th:only-of-type {\n",
       "        vertical-align: middle;\n",
       "    }\n",
       "\n",
       "    .dataframe tbody tr th {\n",
       "        vertical-align: top;\n",
       "    }\n",
       "\n",
       "    .dataframe thead th {\n",
       "        text-align: right;\n",
       "    }\n",
       "</style>\n",
       "<table border=\"1\" class=\"dataframe\">\n",
       "  <thead>\n",
       "    <tr style=\"text-align: right;\">\n",
       "      <th></th>\n",
       "      <th>Estatísticas</th>\n",
       "      <th>Área de Floresta %</th>\n",
       "      <th>Produção de Óleo</th>\n",
       "      <th>População</th>\n",
       "    </tr>\n",
       "  </thead>\n",
       "  <tbody>\n",
       "    <tr>\n",
       "      <th>0</th>\n",
       "      <td>Contagem</td>\n",
       "      <td>260.000000</td>\n",
       "      <td>2.600000e+02</td>\n",
       "      <td>2.600000e+02</td>\n",
       "    </tr>\n",
       "    <tr>\n",
       "      <th>1</th>\n",
       "      <td>Média</td>\n",
       "      <td>0.891752</td>\n",
       "      <td>7.650162e+05</td>\n",
       "      <td>5.352181e+07</td>\n",
       "    </tr>\n",
       "    <tr>\n",
       "      <th>2</th>\n",
       "      <td>Desvio Padrão</td>\n",
       "      <td>2.507602</td>\n",
       "      <td>2.134971e+06</td>\n",
       "      <td>1.763970e+08</td>\n",
       "    </tr>\n",
       "    <tr>\n",
       "      <th>3</th>\n",
       "      <td>Mínimo</td>\n",
       "      <td>0.000019</td>\n",
       "      <td>1.800000e+01</td>\n",
       "      <td>1.192110e+05</td>\n",
       "    </tr>\n",
       "    <tr>\n",
       "      <th>4</th>\n",
       "      <td>1º Quartil</td>\n",
       "      <td>0.045767</td>\n",
       "      <td>1.531350e+04</td>\n",
       "      <td>4.336882e+06</td>\n",
       "    </tr>\n",
       "    <tr>\n",
       "      <th>5</th>\n",
       "      <td>Mediana</td>\n",
       "      <td>0.176241</td>\n",
       "      <td>7.677350e+04</td>\n",
       "      <td>1.022095e+07</td>\n",
       "    </tr>\n",
       "    <tr>\n",
       "      <th>6</th>\n",
       "      <td>3º Quartil</td>\n",
       "      <td>0.543165</td>\n",
       "      <td>3.640425e+05</td>\n",
       "      <td>3.247578e+07</td>\n",
       "    </tr>\n",
       "    <tr>\n",
       "      <th>7</th>\n",
       "      <td>Máximo</td>\n",
       "      <td>19.850775</td>\n",
       "      <td>1.948291e+07</td>\n",
       "      <td>1.337705e+09</td>\n",
       "    </tr>\n",
       "    <tr>\n",
       "      <th>8</th>\n",
       "      <td>Distorção</td>\n",
       "      <td>5.178593</td>\n",
       "      <td>4.877443e+00</td>\n",
       "      <td>5.948668e+00</td>\n",
       "    </tr>\n",
       "  </tbody>\n",
       "</table>\n",
       "</div>"
      ],
      "text/plain": [
       "    Estatísticas  Área de Floresta %  Produção de Óleo     População\n",
       "0       Contagem          260.000000      2.600000e+02  2.600000e+02\n",
       "1          Média            0.891752      7.650162e+05  5.352181e+07\n",
       "2  Desvio Padrão            2.507602      2.134971e+06  1.763970e+08\n",
       "3         Mínimo            0.000019      1.800000e+01  1.192110e+05\n",
       "4     1º Quartil            0.045767      1.531350e+04  4.336882e+06\n",
       "5        Mediana            0.176241      7.677350e+04  1.022095e+07\n",
       "6     3º Quartil            0.543165      3.640425e+05  3.247578e+07\n",
       "7         Máximo           19.850775      1.948291e+07  1.337705e+09\n",
       "8      Distorção            5.178593      4.877443e+00  5.948668e+00"
      ]
     },
     "execution_count": 516,
     "metadata": {},
     "output_type": "execute_result"
    }
   ],
   "source": [
    "mono = pd.DataFrame({'Estatísticas' : ['Contagem', 'Média', 'Desvio Padrão', 'Mínimo', '1º Quartil', 'Mediana', '3º Quartil', 'Máximo', 'Distorção'],\n",
    "                     'Área de Floresta %': [data.Área_de_Floresta.count(), data.Área_de_Floresta.mean(), data.Área_de_Floresta.std(),\n",
    "                                          data.Área_de_Floresta.min(), data.Área_de_Floresta.quantile(.25), data.Área_de_Floresta.quantile(.50),\n",
    "                                          data.Área_de_Floresta.quantile(.75), data.Área_de_Floresta.max(), data.Área_de_Floresta.skew()],\n",
    "                     'Produção de Óleo': [data.Produção_Óleo.count(), data.Produção_Óleo.mean(), data.Produção_Óleo.std(),\n",
    "                                          data.Produção_Óleo.min(), data.Produção_Óleo.quantile(.25), data.Produção_Óleo.quantile(.50),\n",
    "                                          data.Produção_Óleo.quantile(.75), data.Produção_Óleo.max(), data.Produção_Óleo.skew()],\n",
    "                     'População': [data.População.count(), data.População.mean(), data.População.std(),\n",
    "                                          data.População.min(), data.População.quantile(.25), data.População.quantile(.50),\n",
    "                                          data.População.quantile(.75), data.População.max(), data.População.skew()]})\n",
    "mono"
   ]
  },
  {
   "cell_type": "markdown",
   "metadata": {},
   "source": [
    "# A distorção dos dados é bem alta, então uma transformação de dados se torna necessária"
   ]
  },
  {
   "cell_type": "markdown",
   "metadata": {},
   "source": [
    "## Transformação logarítmica "
   ]
  },
  {
   "cell_type": "code",
   "execution_count": 517,
   "metadata": {},
   "outputs": [],
   "source": [
    "def tiraDistorcao(df):\n",
    "    return np.log(df)\n",
    "\n",
    "data_value = tiraDistorcao(data_value)\n"
   ]
  },
  {
   "cell_type": "markdown",
   "metadata": {},
   "source": [
    "## Transformação Yeo-Johnson"
   ]
  },
  {
   "cell_type": "code",
   "execution_count": 518,
   "metadata": {},
   "outputs": [],
   "source": [
    "def yeo_johnson(y):\n",
    "    power = PowerTransformer()\n",
    "    aux1 = pd.DataFrame(y)\n",
    "    y = power.fit_transform(y)\n",
    "    data_y = pd.DataFrame(y, index=aux1.index, columns=aux1.columns)\n",
    "    return y, data_y\n",
    "\n",
    "y, data_y = yeo_johnson(y)"
   ]
  },
  {
   "cell_type": "code",
   "execution_count": 519,
   "metadata": {},
   "outputs": [
    {
     "data": {
      "text/plain": [
       "<AxesSubplot:xlabel='Conversão_líquida_de_floresta', ylabel='Count'>"
      ]
     },
     "execution_count": 519,
     "metadata": {},
     "output_type": "execute_result"
    },
    {
     "data": {
      "image/png": "[encoded data removed]",
      "text/plain": [
       "<Figure size 432x288 with 1 Axes>"
      ]
     },
     "metadata": {},
     "output_type": "display_data"
    }
   ],
   "source": [
    "sns.histplot(data_y.Conversão_líquida_de_floresta,bins=3)"
   ]
  },
  {
   "cell_type": "markdown",
   "metadata": {},
   "source": [
    "# Comparação dos dados antes e depois da transformação"
   ]
  },
  {
   "cell_type": "code",
   "execution_count": 520,
   "metadata": {},
   "outputs": [
    {
     "data": {
      "text/plain": [
       "<AxesSubplot:xlabel='Área_de_Floresta', ylabel='Count'>"
      ]
     },
     "execution_count": 520,
     "metadata": {},
     "output_type": "execute_result"
    },
    {
     "data": {
      "image/png": "[encoded data removed]",
      "text/plain": [
       "<Figure size 432x288 with 1 Axes>"
      ]
     },
     "metadata": {},
     "output_type": "display_data"
    }
   ],
   "source": [
    "sns.histplot(data.Área_de_Floresta, bins=10)"
   ]
  },
  {
   "cell_type": "code",
   "execution_count": 521,
   "metadata": {},
   "outputs": [
    {
     "data": {
      "text/plain": [
       "<AxesSubplot:xlabel='Área_de_Floresta', ylabel='Count'>"
      ]
     },
     "execution_count": 521,
     "metadata": {},
     "output_type": "execute_result"
    },
    {
     "data": {
      "image/png": "[encoded data removed]",
      "text/plain": [
       "<Figure size 432x288 with 1 Axes>"
      ]
     },
     "metadata": {},
     "output_type": "display_data"
    }
   ],
   "source": [
    "sns.histplot(data_value.Área_de_Floresta, bins=10)"
   ]
  },
  {
   "cell_type": "code",
   "execution_count": 522,
   "metadata": {},
   "outputs": [
    {
     "data": {
      "text/plain": [
       "<AxesSubplot:xlabel='Produção_Óleo', ylabel='Count'>"
      ]
     },
     "execution_count": 522,
     "metadata": {},
     "output_type": "execute_result"
    },
    {
     "data": {
      "image/png": "[encoded data removed]",
      "text/plain": [
       "<Figure size 432x288 with 1 Axes>"
      ]
     },
     "metadata": {},
     "output_type": "display_data"
    }
   ],
   "source": [
    "sns.histplot(data.Produção_Óleo, bins=10)"
   ]
  },
  {
   "cell_type": "code",
   "execution_count": 523,
   "metadata": {},
   "outputs": [
    {
     "data": {
      "text/plain": [
       "<AxesSubplot:xlabel='Produção_Óleo', ylabel='Count'>"
      ]
     },
     "execution_count": 523,
     "metadata": {},
     "output_type": "execute_result"
    },
    {
     "data": {
      "image/png": "[encoded data removed]",
      "text/plain": [
       "<Figure size 432x288 with 1 Axes>"
      ]
     },
     "metadata": {},
     "output_type": "display_data"
    }
   ],
   "source": [
    "sns.histplot(data_value.Produção_Óleo, bins=10)"
   ]
  },
  {
   "cell_type": "code",
   "execution_count": 524,
   "metadata": {},
   "outputs": [
    {
     "data": {
      "text/plain": [
       "<AxesSubplot:xlabel='População', ylabel='Count'>"
      ]
     },
     "execution_count": 524,
     "metadata": {},
     "output_type": "execute_result"
    },
    {
     "data": {
      "image/png": "[encoded data removed]",
      "text/plain": [
       "<Figure size 432x288 with 1 Axes>"
      ]
     },
     "metadata": {},
     "output_type": "display_data"
    }
   ],
   "source": [
    "sns.histplot(data.População, bins=10)"
   ]
  },
  {
   "cell_type": "code",
   "execution_count": 525,
   "metadata": {},
   "outputs": [
    {
     "data": {
      "text/plain": [
       "<AxesSubplot:xlabel='População', ylabel='Count'>"
      ]
     },
     "execution_count": 525,
     "metadata": {},
     "output_type": "execute_result"
    },
    {
     "data": {
      "image/png": "[encoded data removed]",
      "text/plain": [
       "<Figure size 432x288 with 1 Axes>"
      ]
     },
     "metadata": {},
     "output_type": "display_data"
    }
   ],
   "source": [
    "sns.histplot(data_value.População, bins=10)"
   ]
  },
  {
   "cell_type": "markdown",
   "metadata": {},
   "source": [
    "# Análise bivariada"
   ]
  },
  {
   "cell_type": "code",
   "execution_count": 526,
   "metadata": {},
   "outputs": [
    {
     "data": {
      "text/plain": [
       "<seaborn.axisgrid.PairGrid at 0x7fb2d030ca00>"
      ]
     },
     "execution_count": 526,
     "metadata": {},
     "output_type": "execute_result"
    },
    {
     "data": {
      "image/png": "[encoded data removed]",
      "text/plain": [
       "<Figure size 540x540 with 12 Axes>"
      ]
     },
     "metadata": {},
     "output_type": "display_data"
    }
   ],
   "source": [
    "sns.pairplot(data=data_value)"
   ]
  },
  {
   "cell_type": "markdown",
   "metadata": {},
   "source": [
    "# Matriz de correlação e mapa de calor"
   ]
  },
  {
   "cell_type": "code",
   "execution_count": 527,
   "metadata": {},
   "outputs": [
    {
     "data": {
      "image/png": "[encoded data removed]",
      "text/plain": [
       "<Figure size 288x288 with 2 Axes>"
      ]
     },
     "metadata": {},
     "output_type": "display_data"
    },
    {
     "data": {
      "text/html": [
       "<div>\n",
       "<style scoped>\n",
       "    .dataframe tbody tr th:only-of-type {\n",
       "        vertical-align: middle;\n",
       "    }\n",
       "\n",
       "    .dataframe tbody tr th {\n",
       "        vertical-align: top;\n",
       "    }\n",
       "\n",
       "    .dataframe thead th {\n",
       "        text-align: right;\n",
       "    }\n",
       "</style>\n",
       "<table border=\"1\" class=\"dataframe\">\n",
       "  <thead>\n",
       "    <tr style=\"text-align: right;\">\n",
       "      <th></th>\n",
       "      <th>Área_de_Floresta</th>\n",
       "      <th>Produção_Óleo</th>\n",
       "      <th>População</th>\n",
       "    </tr>\n",
       "  </thead>\n",
       "  <tbody>\n",
       "    <tr>\n",
       "      <th>Área_de_Floresta</th>\n",
       "      <td>1.000000</td>\n",
       "      <td>0.626026</td>\n",
       "      <td>0.596391</td>\n",
       "    </tr>\n",
       "    <tr>\n",
       "      <th>Produção_Óleo</th>\n",
       "      <td>0.626026</td>\n",
       "      <td>1.000000</td>\n",
       "      <td>0.796013</td>\n",
       "    </tr>\n",
       "    <tr>\n",
       "      <th>População</th>\n",
       "      <td>0.596391</td>\n",
       "      <td>0.796013</td>\n",
       "      <td>1.000000</td>\n",
       "    </tr>\n",
       "  </tbody>\n",
       "</table>\n",
       "</div>"
      ],
      "text/plain": [
       "                  Área_de_Floresta  Produção_Óleo  População\n",
       "Área_de_Floresta          1.000000       0.626026   0.596391\n",
       "Produção_Óleo             0.626026       1.000000   0.796013\n",
       "População                 0.596391       0.796013   1.000000"
      ]
     },
     "execution_count": 527,
     "metadata": {},
     "output_type": "execute_result"
    }
   ],
   "source": [
    "data.sort_values(['Conversão_líquida_de_floresta'], inplace=True)\n",
    "\n",
    "plt.matshow(data_value.corr())\n",
    "cb = plt.colorbar()\n",
    "\n",
    "plt.show()\n",
    "data_value.corr()"
   ]
  },
  {
   "cell_type": "markdown",
   "metadata": {},
   "source": [
    "# Boxplot de como ficou os dados após as transformações"
   ]
  },
  {
   "cell_type": "code",
   "execution_count": 528,
   "metadata": {},
   "outputs": [
    {
     "data": {
      "text/plain": [
       "<AxesSubplot:>"
      ]
     },
     "execution_count": 528,
     "metadata": {},
     "output_type": "execute_result"
    },
    {
     "data": {
      "image/png": "[encoded data removed]",
      "text/plain": [
       "<Figure size 432x288 with 1 Axes>"
      ]
     },
     "metadata": {},
     "output_type": "display_data"
    }
   ],
   "source": [
    "data_value.boxplot(column=['Área_de_Floresta'])"
   ]
  },
  {
   "cell_type": "code",
   "execution_count": 529,
   "metadata": {},
   "outputs": [
    {
     "data": {
      "text/plain": [
       "<AxesSubplot:>"
      ]
     },
     "execution_count": 529,
     "metadata": {},
     "output_type": "execute_result"
    },
    {
     "data": {
      "image/png": "[encoded data removed]",
      "text/plain": [
       "<Figure size 432x288 with 1 Axes>"
      ]
     },
     "metadata": {},
     "output_type": "display_data"
    }
   ],
   "source": [
    "data_value.boxplot(column=['Produção_Óleo'])\n"
   ]
  },
  {
   "cell_type": "code",
   "execution_count": 530,
   "metadata": {},
   "outputs": [
    {
     "data": {
      "text/plain": [
       "<AxesSubplot:>"
      ]
     },
     "execution_count": 530,
     "metadata": {},
     "output_type": "execute_result"
    },
    {
     "data": {
      "image/png": "[encoded data removed]",
      "text/plain": [
       "<Figure size 432x288 with 1 Axes>"
      ]
     },
     "metadata": {},
     "output_type": "display_data"
    }
   ],
   "source": [
    "data_value.boxplot(column=['População'])"
   ]
  },
  {
   "cell_type": "code",
   "execution_count": 531,
   "metadata": {},
   "outputs": [
    {
     "data": {
      "text/plain": [
       "<AxesSubplot:>"
      ]
     },
     "execution_count": 531,
     "metadata": {},
     "output_type": "execute_result"
    },
    {
     "data": {
      "image/png": "[encoded data removed]",
      "text/plain": [
       "<Figure size 432x288 with 1 Axes>"
      ]
     },
     "metadata": {},
     "output_type": "display_data"
    }
   ],
   "source": [
    "data_y.boxplot()"
   ]
  },
  {
   "cell_type": "markdown",
   "metadata": {},
   "source": [
    "## Os dados acima não podem ser removidos, porque sem eles não ocorreria desmatamento no mundo. Basicamente, caso essas informações fossem retiradas, o mundo ganharia mais floresta do que está perdendo"
   ]
  },
  {
   "cell_type": "markdown",
   "metadata": {},
   "source": [
    "# Esses outliers vão precisar de um Spatial sign transform"
   ]
  },
  {
   "cell_type": "code",
   "execution_count": 532,
   "metadata": {},
   "outputs": [],
   "source": [
    "def spatialSign(df, s, s_aux):\n",
    "    data_aux = df\n",
    "    df = preprocessing.normalize(df, norm='l2')\n",
    "    df = pd.DataFrame(df, index=data_aux.index, columns=data_aux.columns)\n",
    "    s = preprocessing.normalize(s, norm='l2')\n",
    "    s = pd.DataFrame(s, index=s_aux.index, columns=s_aux.columns)\n",
    "    return df, s\n"
   ]
  },
  {
   "cell_type": "markdown",
   "metadata": {},
   "source": [
    "# PCA\n"
   ]
  },
  {
   "cell_type": "code",
   "execution_count": 533,
   "metadata": {},
   "outputs": [],
   "source": [
    "x = data_value.values\n",
    "x = StandardScaler().fit_transform(x)"
   ]
  },
  {
   "cell_type": "code",
   "execution_count": 534,
   "metadata": {},
   "outputs": [],
   "source": [
    "pca = PCA(n_components=2)\n",
    "principalComponents = pca.fit_transform(x)\n",
    "principalDf = pd.DataFrame(data = principalComponents\n",
    "             , columns = ['PC1', 'PC2'])\n",
    "finalDf = pd.concat([principalDf, target], axis = 1)\n"
   ]
  },
  {
   "cell_type": "code",
   "execution_count": 535,
   "metadata": {},
   "outputs": [
    {
     "data": {
      "application/vnd.plotly.v1+json": {
       "config": {
        "plotlyServerURL": "https://plot.ly"
       },
       "data": [
        {
         "hovertemplate": "0=%{x}<br>1=%{y}<br>color=%{marker.color}<extra></extra>",
         "legendgroup": "",
         "marker": {
          "color": [
           1,
           0,
           1,
           1,
           1,
           1,
           1,
           1,
           0,
           0,
           0,
           0,
           0,
           0,
           1,
           1,
           0,
           1,
           1,
           1,
           1,
           1,
           0,
           1,
           1,
           1,
           0,
           1,
           0,
           1,
           1,
           1,
           1,
           1,
           1,
           1,
           1,
           1,
           1,
           1,
           1,
           1,
           1,
           1,
           1,
           1,
           1,
           1,
           1,
           1,
           1,
           1,
           1,
           0,
           1,
           1,
           1,
           1,
           1,
           1,
           1,
           1,
           1,
           1,
           1,
           0,
           1,
           1,
           1,
           0,
           0,
           1,
           1,
           0,
           1,
           0,
           1,
           0,
           0,
           1,
           1,
           1,
           1,
           1,
           1,
           1,
           1,
           1,
           1,
           1,
           0,
           0,
           0,
           1,
           1,
           1,
           0,
           1,
           1,
           0,
           1,
           1,
           1,
           1,
           1,
           0,
           1,
           1,
           0,
           0,
           0,
           0,
           1,
           1,
           0,
           0,
           0,
           0,
           0,
           0,
           0,
           0,
           0,
           1,
           1,
           0,
           1,
           1,
           1,
           1,
           1,
           1,
           1,
           1,
           1,
           0,
           0,
           1,
           1,
           0,
           0,
           0,
           0,
           1,
           0,
           1,
           1,
           1,
           1,
           1,
           1,
           0,
           0,
           0,
           1,
           0,
           1,
           1,
           0,
           0,
           0,
           0,
           0,
           0,
           1,
           0,
           1,
           0,
           0,
           0,
           0,
           1,
           0,
           1,
           1,
           0,
           0,
           1,
           1,
           1,
           0,
           0,
           0,
           0,
           0,
           0,
           0,
           0,
           0,
           0,
           0,
           0,
           1,
           1,
           1,
           0,
           1,
           0,
           0,
           1,
           0,
           0,
           0,
           1,
           1,
           1,
           0,
           1,
           0,
           0,
           1,
           0,
           0,
           0,
           1,
           1,
           0,
           0,
           0,
           1,
           1,
           0,
           1,
           0,
           1,
           0,
           0,
           0,
           0,
           0,
           0,
           0,
           1,
           1,
           0,
           1,
           0,
           1,
           1,
           0,
           0,
           0,
           1,
           0,
           1,
           1,
           1,
           1,
           1,
           0,
           1,
           1,
           0,
           0,
           1,
           0,
           0,
           1,
           1,
           1
          ],
          "coloraxis": "coloraxis",
          "symbol": "circle"
         },
         "mode": "markers",
         "name": "",
         "orientation": "v",
         "showlegend": false,
         "type": "scatter",
         "x": [
          -2.96263396438083,
          -2.790504805610319,
          -2.9045100045711125,
          -3.03810888356816,
          -3.191561639219038,
          -2.225752426155696,
          -2.0652378634717476,
          -1.847359832627493,
          -3.3260530318327204,
          -3.280594843046956,
          -3.144461859082733,
          -3.8953068605011234,
          -3.7087790518932104,
          -3.4798328916748207,
          -1.2759975783420152,
          -1.0317351563371222,
          -1.3809260758971607,
          -2.651870740934847,
          -2.8748275038811877,
          -0.7838886225908557,
          -0.7719465342932277,
          -0.9843080932797951,
          -3.4073306512017174,
          -1.8436274886362252,
          -1.979608741080615,
          -2.0839952893200064,
          -3.256350960705861,
          -1.3414438519866598,
          -3.1435025063681308,
          -1.5411909040055036,
          -1.6631311279157763,
          -0.20102302832473004,
          -0.8406689149754057,
          -0.6805077171469869,
          -0.8770361600324442,
          -1.0256780562375571,
          -1.2064729529318043,
          -0.2034075386992444,
          -0.07548430302236928,
          -0.5220913873798971,
          -0.6690368663453701,
          -0.7717900305330055,
          -1.1347921313129594,
          -0.7733642127128256,
          -0.6106456840960147,
          -0.3355952104501353,
          -1.266353846931353,
          -1.674473507071464,
          -1.8631771769206356,
          -1.5493669543241197,
          -1.9793715753137133,
          -0.46383687980259636,
          -0.3730151300926109,
          -0.3797193096303081,
          -1.8143541257792632,
          -0.08172027747357379,
          -1.9483132502174083,
          1.0842968094621601,
          1.0358266705894152,
          -1.9959540189539935,
          1.2092146014937228,
          -0.2855124045466725,
          0.2469163905582441,
          0.14359199132494332,
          0.37628470782873036,
          -0.17520176007435853,
          -0.1023046420183026,
          -0.571360455064254,
          -0.6600975625545659,
          -0.015370840044743123,
          -1.724943058691555,
          -0.9353308562409326,
          -1.696722782027435,
          -1.5543367891377182,
          -0.4960782506374954,
          -1.376302408958385,
          -1.2567789675345522,
          -1.4957558575649585,
          -1.6313795983989108,
          1.7227470603267214,
          1.5393641446153143,
          -0.6359419347751598,
          -0.22547210779371538,
          -0.3201424618877029,
          1.4913572121378262,
          -0.27218190441674617,
          -0.9285925396574596,
          -1.093249895076087,
          -1.1825242055598215,
          -1.2558945276110878,
          -1.506258394458578,
          -0.24482260038983114,
          -0.1731517648749656,
          1.8571289571476803,
          1.907449949890607,
          1.7437237251262574,
          -0.10992981530350056,
          -0.42042521860772836,
          -0.539285385092825,
          -1.2011643943047554,
          -0.21554382597275074,
          0.09948066755688238,
          -0.17751013732138193,
          -0.7329122209815851,
          -0.0634291835664372,
          0.07654471055191374,
          0.14543784018234635,
          0.18678158615848525,
          -1.1048213509671236,
          -1.8167508070344816,
          -1.753981698886703,
          -1.6291279166612176,
          1.0688154217577663,
          1.1607122190302,
          -1.524752134655631,
          -1.2836051468008465,
          -1.1759510981823744,
          -0.9216634793448039,
          1.3136989120071796,
          -1.3700644645074713,
          -0.9295943149763964,
          -0.22954879749162216,
          -0.9020803031255934,
          -0.3593465745073888,
          0.7669305814458908,
          0.29370382592055094,
          0.5129665341719996,
          0.4497639264149513,
          0.4046486201965169,
          0.5063593907427677,
          0.1828380867610143,
          0.19894254254291388,
          0.4038023233222627,
          0.052858252062506814,
          -0.32653086018848476,
          -0.6632931989829899,
          -0.6369560719896887,
          0.7447239412018383,
          -0.06985462750303562,
          -0.05567210575849267,
          -0.6709540326720924,
          0.39793068951980537,
          -0.48601137415230244,
          0.6346991253811826,
          -0.43942889187737766,
          0.3875952961696234,
          2.1188141121368087,
          0.9599604914654245,
          0.882461842247197,
          0.48748679444986814,
          0.03608621458536944,
          -0.0484387273679085,
          0.07175979950178628,
          0.0319899727981277,
          -0.24666975468583688,
          0.3732979423419125,
          0.09967643148763886,
          0.740115158002664,
          0.7950470283633024,
          -0.5467605521008031,
          0.04281442962521891,
          -0.23497859760365444,
          0.06041962499906182,
          1.6221272553688448,
          -0.1407790015449959,
          -1.0949195625844346,
          0.4717400887922004,
          0.3619902697942056,
          -0.48762787894293586,
          -1.0254131585697368,
          0.15633982591626447,
          1.0788464704270202,
          0.31681571588544793,
          0.561527259030981,
          -0.393506566324344,
          1.4290956786029905,
          0.04948276809308445,
          0.30135788870317903,
          1.840349963091826,
          1.6659235796149576,
          0.7664065442226633,
          1.2199715550459607,
          1.5476430891167998,
          1.0748255187848752,
          0.34643335773894474,
          -0.050027564589593655,
          1.3410378092253823,
          1.0995124028558965,
          0.5031177667378333,
          0.6597592339176601,
          -0.16269639217733656,
          0.04641610781331295,
          -0.9163065615565336,
          -0.9072085824038312,
          1.1771016208833216,
          0.712552803982262,
          -0.7157755869684569,
          -0.06517537648310323,
          1.0370230484939016,
          0.0692809744297097,
          0.05298196286695388,
          0.6109072694745218,
          1.0813803423774002,
          1.031957936616759,
          0.6517159334991639,
          0.878874710284291,
          1.6614746279223833,
          0.7248035904226905,
          0.5943139676600864,
          2.318195435521959,
          0.4234904005294838,
          0.6001386452819852,
          0.620115129135617,
          0.8975682548943483,
          2.907779520537112,
          0.39591314067412126,
          0.5207229738750494,
          0.5714103812528516,
          1.2750483923014992,
          1.454142527045896,
          -0.041188980008831665,
          0.21429425091085255,
          1.3139086398083841,
          0.4271835474660586,
          1.4532559467050439,
          0.4180575411043843,
          1.3739600092158513,
          0.5240942908844819,
          0.6150373323170629,
          1.481061414723266,
          0.6903719566433492,
          1.6455189679142466,
          1.4910811803707442,
          2.3735487285793107,
          1.4875250260771862,
          2.257563493655788,
          1.0766497437444464,
          -0.18962677829133756,
          2.447781234947752,
          -0.15491958672823097,
          1.4115865883821197,
          -0.06951589152752224,
          1.597560388660965,
          1.2219035738733304,
          1.6936795259096045,
          3.223994047110585,
          3.45131016255544,
          3.7724552962360804,
          3.4376613054322056,
          3.481480129709241,
          3.9025661341666655,
          2.1337386425930447,
          2.134216619269233,
          2.0621920038278336,
          3.1571426859066047,
          3.46804325865263,
          3.600088677450512,
          4.7425040483894465,
          4.312758448253041,
          4.438607997201875
         ],
         "xaxis": "x",
         "y": [
          0.6454182605737461,
          0.728772602419098,
          0.5008846633588713,
          0.3936682724538114,
          0.2716684119023923,
          0.7289820902858188,
          0.8185854506304858,
          0.9367257752138631,
          -0.07864079400297175,
          -0.0619643841884896,
          0.010106434867513352,
          -0.6980891920320288,
          -0.658856973647265,
          -0.5930759459928282,
          0.8105508081602039,
          0.9509716453941343,
          0.7412834110589592,
          -0.15469993511375055,
          -0.35506341958014,
          0.7869882162003022,
          0.803750835690068,
          0.6686203320615484,
          -0.9413114571794873,
          0.08770105074398873,
          -0.004266205248447722,
          -0.0753254286634729,
          -0.8677161634687968,
          0.3844638991410313,
          -0.8293338143739947,
          0.25490608333013953,
          0.17005179547122076,
          1.0581478619377969,
          0.6174140900731401,
          0.7667627554461013,
          0.6349743094790754,
          0.4733982793215661,
          0.32661379733934565,
          0.9230756031610713,
          1.0085993903299755,
          0.6996834974477796,
          0.5823319661212935,
          0.48630060057625135,
          0.2375051959289243,
          0.5259126398521684,
          0.6253042808461514,
          0.7846530841668211,
          0.1088744875212709,
          -0.09646222898966728,
          -0.22516998799280155,
          -0.09638266351328915,
          -0.3381707039916047,
          0.5561284016033823,
          0.6051830823053339,
          0.5930142033602058,
          -0.3817381957248783,
          0.7574745256576065,
          -0.4937277490218443,
          1.43918842431788,
          1.4257993632097608,
          -0.5639457069334737,
          1.530237214885571,
          0.5879227431168027,
          0.9038511747422819,
          0.8344493232893139,
          0.9893237788189793,
          0.6380479100933153,
          0.6788166064249886,
          0.35889681366257403,
          0.28115603520340177,
          0.7074312104909903,
          -0.4112834620379795,
          0.10208519205652618,
          -0.4148688195949919,
          -0.3368436312800741,
          0.3891214966114721,
          -0.24646733375152294,
          -0.19438186288055964,
          -0.33298778388154393,
          -0.39346539060233265,
          1.7219262721190849,
          1.6163556371518846,
          0.12443357146402746,
          0.4702188891979431,
          0.4066320767450252,
          1.5821382632272163,
          0.4223687695129503,
          -0.06843040233529034,
          -0.10792666686507293,
          -0.17096707568914202,
          -0.2238501489979588,
          -0.3614167373112021,
          0.38477844140014866,
          0.39784886975703265,
          1.725561488020665,
          1.7560885498031378,
          1.6679651960781354,
          0.41509236837376945,
          0.24135919380279441,
          0.13997601092685266,
          -0.35745599033371506,
          0.29723824386901876,
          0.48676932190481803,
          0.33295087584169575,
          0.002899342428165502,
          0.4035889135973072,
          0.485829581060473,
          0.5236412651671049,
          0.541792706368967,
          -0.3664859662518777,
          -0.769275013897568,
          -0.7435572992926802,
          -0.6840543839926748,
          0.9388065725516543,
          0.9912604620260608,
          -0.6575337942953277,
          -0.5375059013100687,
          -0.4647031977068237,
          -0.3757090405203446,
          1.0517020802675416,
          -0.6165828631603741,
          -0.3499891028912795,
          0.1090425598779521,
          -0.3533287837448866,
          0.009404817991518816,
          0.7357757789484409,
          0.3668595599885309,
          0.5667956514750931,
          0.4653579270732281,
          0.47455511140204615,
          0.44469588496663126,
          0.26380674080060873,
          0.269260177689003,
          0.3217940864584176,
          0.16460694253567335,
          -0.0682243548625827,
          -0.31637101486388436,
          -0.3260303518930604,
          0.5378494806764711,
          -0.05212121188749729,
          -0.05755491779137333,
          -0.41868041184955423,
          0.18908812898232455,
          -0.330080834486366,
          0.39081441862730776,
          -0.305667530497918,
          0.14845357498240602,
          1.1678942090395714,
          0.5083530209916372,
          0.44705245573235824,
          0.18297062171034223,
          -0.11416018654795498,
          -0.1749578760364424,
          -0.11529816205273906,
          -0.138839075583693,
          -0.33710172599838595,
          0.03625075242900139,
          -0.19435880756614626,
          0.18797427202513778,
          0.31351200904210097,
          -0.5992548696837838,
          -0.19521076894206435,
          -0.3769370319605414,
          -0.20588083696283085,
          0.7350640166004623,
          -0.3976142439990224,
          -0.996713603060451,
          -0.024012280900298444,
          -0.10301055365041009,
          -0.6232176103634075,
          -0.9774350764422742,
          -0.16745763529333538,
          0.3440666042631274,
          -0.07819933458170586,
          0.07149172401514742,
          -0.6193920307086451,
          0.5149732039920388,
          -0.2844346561584227,
          -0.20050435335980243,
          0.8399955060331626,
          0.7052680641801705,
          0.023352918035869648,
          0.398080633688754,
          0.5483537636136997,
          0.22687237812956712,
          -0.2709672286536116,
          -0.4974055524822888,
          0.3242568068233986,
          0.11865205545333804,
          -0.2062958235292912,
          -0.0825927148912337,
          -0.6750226352284335,
          -0.48262045634517253,
          -1.1782059724321372,
          -1.1848049878693347,
          0.15203100196478356,
          -0.07121897306048385,
          -1.0630280053589705,
          -0.5821650107507103,
          0.09061759178286018,
          -0.6090909702944269,
          -0.6476428790922717,
          -0.2484378164345252,
          -0.004799464527811102,
          -0.05213739831635347,
          -0.33652566402791184,
          -0.17926796451153085,
          0.30656815422410333,
          -0.2868503549065417,
          -0.37323767124681784,
          0.6581343179178671,
          -0.5283591411276651,
          -0.3859938302266486,
          -0.3973992427960937,
          -0.30322770233911406,
          0.8703714147188584,
          -0.7666397428736867,
          -0.6927762147399417,
          -0.6627694564329387,
          -0.2260846713402737,
          -0.1532980499427598,
          -1.028375195120991,
          -0.8879840271483745,
          -0.2601269613096811,
          -0.78509106111186,
          -0.21429208958244864,
          -0.8062220256236344,
          -0.23099137369198994,
          -0.7522887261202982,
          -0.7183995482558997,
          -0.2051457800395163,
          -0.7191008447507802,
          -0.15089386813804975,
          -0.23860944867601833,
          0.213925697286772,
          -0.3242995630324915,
          0.0831969312432436,
          -0.6236167609075652,
          -1.4369469703261346,
          0.10792923012639793,
          -1.4397795674623184,
          -0.4877563236654264,
          -1.4173748728153261,
          -0.5424260856722257,
          -0.937405039440942,
          -0.6638165771755048,
          -0.1696345618316191,
          -0.03294413130815117,
          0.14837176575143496,
          -0.34093446866987487,
          -0.32854577871042495,
          -0.12553681818387466,
          -1.566900928048381,
          -1.5779511481985635,
          -1.6754361907537854,
          -1.4779684830340285,
          -1.4117453569927083,
          -1.515896418773909,
          -1.4583172097552068,
          -1.6831318154503625,
          -1.6082597384841557
         ],
         "yaxis": "y"
        }
       ],
       "layout": {
        "coloraxis": {
         "colorbar": {
          "title": {
           "text": "color"
          }
         },
         "colorscale": [
          [
           0,
           "green"
          ],
          [
           1,
           "red"
          ]
         ]
        },
        "legend": {
         "tracegroupgap": 0
        },
        "margin": {
         "t": 60
        },
        "template": {
         "data": {
          "bar": [
           {
            "error_x": {
             "color": "#2a3f5f"
            },
            "error_y": {
             "color": "#2a3f5f"
            },
            "marker": {
             "line": {
              "color": "#E5ECF6",
              "width": 0.5
             },
             "pattern": {
              "fillmode": "overlay",
              "size": 10,
              "solidity": 0.2
             }
            },
            "type": "bar"
           }
          ],
          "barpolar": [
           {
            "marker": {
             "line": {
              "color": "#E5ECF6",
              "width": 0.5
             },
             "pattern": {
              "fillmode": "overlay",
              "size": 10,
              "solidity": 0.2
             }
            },
            "type": "barpolar"
           }
          ],
          "carpet": [
           {
            "aaxis": {
             "endlinecolor": "#2a3f5f",
             "gridcolor": "white",
             "linecolor": "white",
             "minorgridcolor": "white",
             "startlinecolor": "#2a3f5f"
            },
            "baxis": {
             "endlinecolor": "#2a3f5f",
             "gridcolor": "white",
             "linecolor": "white",
             "minorgridcolor": "white",
             "startlinecolor": "#2a3f5f"
            },
            "type": "carpet"
           }
          ],
          "choropleth": [
           {
            "colorbar": {
             "outlinewidth": 0,
             "ticks": ""
            },
            "type": "choropleth"
           }
          ],
          "contour": [
           {
            "colorbar": {
             "outlinewidth": 0,
             "ticks": ""
            },
            "colorscale": [
             [
              0,
              "#0d0887"
             ],
             [
              0.1111111111111111,
              "#46039f"
             ],
             [
              0.2222222222222222,
              "#7201a8"
             ],
             [
              0.3333333333333333,
              "#9c179e"
             ],
             [
              0.4444444444444444,
              "#bd3786"
             ],
             [
              0.5555555555555556,
              "#d8576b"
             ],
             [
              0.6666666666666666,
              "#ed7953"
             ],
             [
              0.7777777777777778,
              "#fb9f3a"
             ],
             [
              0.8888888888888888,
              "#fdca26"
             ],
             [
              1,
              "#f0f921"
             ]
            ],
            "type": "contour"
           }
          ],
          "contourcarpet": [
           {
            "colorbar": {
             "outlinewidth": 0,
             "ticks": ""
            },
            "type": "contourcarpet"
           }
          ],
          "heatmap": [
           {
            "colorbar": {
             "outlinewidth": 0,
             "ticks": ""
            },
            "colorscale": [
             [
              0,
              "#0d0887"
             ],
             [
              0.1111111111111111,
              "#46039f"
             ],
             [
              0.2222222222222222,
              "#7201a8"
             ],
             [
              0.3333333333333333,
              "#9c179e"
             ],
             [
              0.4444444444444444,
              "#bd3786"
             ],
             [
              0.5555555555555556,
              "#d8576b"
             ],
             [
              0.6666666666666666,
              "#ed7953"
             ],
             [
              0.7777777777777778,
              "#fb9f3a"
             ],
             [
              0.8888888888888888,
              "#fdca26"
             ],
             [
              1,
              "#f0f921"
             ]
            ],
            "type": "heatmap"
           }
          ],
          "heatmapgl": [
           {
            "colorbar": {
             "outlinewidth": 0,
             "ticks": ""
            },
            "colorscale": [
             [
              0,
              "#0d0887"
             ],
             [
              0.1111111111111111,
              "#46039f"
             ],
             [
              0.2222222222222222,
              "#7201a8"
             ],
             [
              0.3333333333333333,
              "#9c179e"
             ],
             [
              0.4444444444444444,
              "#bd3786"
             ],
             [
              0.5555555555555556,
              "#d8576b"
             ],
             [
              0.6666666666666666,
              "#ed7953"
             ],
             [
              0.7777777777777778,
              "#fb9f3a"
             ],
             [
              0.8888888888888888,
              "#fdca26"
             ],
             [
              1,
              "#f0f921"
             ]
            ],
            "type": "heatmapgl"
           }
          ],
          "histogram": [
           {
            "marker": {
             "pattern": {
              "fillmode": "overlay",
              "size": 10,
              "solidity": 0.2
             }
            },
            "type": "histogram"
           }
          ],
          "histogram2d": [
           {
            "colorbar": {
             "outlinewidth": 0,
             "ticks": ""
            },
            "colorscale": [
             [
              0,
              "#0d0887"
             ],
             [
              0.1111111111111111,
              "#46039f"
             ],
             [
              0.2222222222222222,
              "#7201a8"
             ],
             [
              0.3333333333333333,
              "#9c179e"
             ],
             [
              0.4444444444444444,
              "#bd3786"
             ],
             [
              0.5555555555555556,
              "#d8576b"
             ],
             [
              0.6666666666666666,
              "#ed7953"
             ],
             [
              0.7777777777777778,
              "#fb9f3a"
             ],
             [
              0.8888888888888888,
              "#fdca26"
             ],
             [
              1,
              "#f0f921"
             ]
            ],
            "type": "histogram2d"
           }
          ],
          "histogram2dcontour": [
           {
            "colorbar": {
             "outlinewidth": 0,
             "ticks": ""
            },
            "colorscale": [
             [
              0,
              "#0d0887"
             ],
             [
              0.1111111111111111,
              "#46039f"
             ],
             [
              0.2222222222222222,
              "#7201a8"
             ],
             [
              0.3333333333333333,
              "#9c179e"
             ],
             [
              0.4444444444444444,
              "#bd3786"
             ],
             [
              0.5555555555555556,
              "#d8576b"
             ],
             [
              0.6666666666666666,
              "#ed7953"
             ],
             [
              0.7777777777777778,
              "#fb9f3a"
             ],
             [
              0.8888888888888888,
              "#fdca26"
             ],
             [
              1,
              "#f0f921"
             ]
            ],
            "type": "histogram2dcontour"
           }
          ],
          "mesh3d": [
           {
            "colorbar": {
             "outlinewidth": 0,
             "ticks": ""
            },
            "type": "mesh3d"
           }
          ],
          "parcoords": [
           {
            "line": {
             "colorbar": {
              "outlinewidth": 0,
              "ticks": ""
             }
            },
            "type": "parcoords"
           }
          ],
          "pie": [
           {
            "automargin": true,
            "type": "pie"
           }
          ],
          "scatter": [
           {
            "marker": {
             "colorbar": {
              "outlinewidth": 0,
              "ticks": ""
             }
            },
            "type": "scatter"
           }
          ],
          "scatter3d": [
           {
            "line": {
             "colorbar": {
              "outlinewidth": 0,
              "ticks": ""
             }
            },
            "marker": {
             "colorbar": {
              "outlinewidth": 0,
              "ticks": ""
             }
            },
            "type": "scatter3d"
           }
          ],
          "scattercarpet": [
           {
            "marker": {
             "colorbar": {
              "outlinewidth": 0,
              "ticks": ""
             }
            },
            "type": "scattercarpet"
           }
          ],
          "scattergeo": [
           {
            "marker": {
             "colorbar": {
              "outlinewidth": 0,
              "ticks": ""
             }
            },
            "type": "scattergeo"
           }
          ],
          "scattergl": [
           {
            "marker": {
             "colorbar": {
              "outlinewidth": 0,
              "ticks": ""
             }
            },
            "type": "scattergl"
           }
          ],
          "scattermapbox": [
           {
            "marker": {
             "colorbar": {
              "outlinewidth": 0,
              "ticks": ""
             }
            },
            "type": "scattermapbox"
           }
          ],
          "scatterpolar": [
           {
            "marker": {
             "colorbar": {
              "outlinewidth": 0,
              "ticks": ""
             }
            },
            "type": "scatterpolar"
           }
          ],
          "scatterpolargl": [
           {
            "marker": {
             "colorbar": {
              "outlinewidth": 0,
              "ticks": ""
             }
            },
            "type": "scatterpolargl"
           }
          ],
          "scatterternary": [
           {
            "marker": {
             "colorbar": {
              "outlinewidth": 0,
              "ticks": ""
             }
            },
            "type": "scatterternary"
           }
          ],
          "surface": [
           {
            "colorbar": {
             "outlinewidth": 0,
             "ticks": ""
            },
            "colorscale": [
             [
              0,
              "#0d0887"
             ],
             [
              0.1111111111111111,
              "#46039f"
             ],
             [
              0.2222222222222222,
              "#7201a8"
             ],
             [
              0.3333333333333333,
              "#9c179e"
             ],
             [
              0.4444444444444444,
              "#bd3786"
             ],
             [
              0.5555555555555556,
              "#d8576b"
             ],
             [
              0.6666666666666666,
              "#ed7953"
             ],
             [
              0.7777777777777778,
              "#fb9f3a"
             ],
             [
              0.8888888888888888,
              "#fdca26"
             ],
             [
              1,
              "#f0f921"
             ]
            ],
            "type": "surface"
           }
          ],
          "table": [
           {
            "cells": {
             "fill": {
              "color": "#EBF0F8"
             },
             "line": {
              "color": "white"
             }
            },
            "header": {
             "fill": {
              "color": "#C8D4E3"
             },
             "line": {
              "color": "white"
             }
            },
            "type": "table"
           }
          ]
         },
         "layout": {
          "annotationdefaults": {
           "arrowcolor": "#2a3f5f",
           "arrowhead": 0,
           "arrowwidth": 1
          },
          "autotypenumbers": "strict",
          "coloraxis": {
           "colorbar": {
            "outlinewidth": 0,
            "ticks": ""
           }
          },
          "colorscale": {
           "diverging": [
            [
             0,
             "#8e0152"
            ],
            [
             0.1,
             "#c51b7d"
            ],
            [
             0.2,
             "#de77ae"
            ],
            [
             0.3,
             "#f1b6da"
            ],
            [
             0.4,
             "#fde0ef"
            ],
            [
             0.5,
             "#f7f7f7"
            ],
            [
             0.6,
             "#e6f5d0"
            ],
            [
             0.7,
             "#b8e186"
            ],
            [
             0.8,
             "#7fbc41"
            ],
            [
             0.9,
             "#4d9221"
            ],
            [
             1,
             "#276419"
            ]
           ],
           "sequential": [
            [
             0,
             "#0d0887"
            ],
            [
             0.1111111111111111,
             "#46039f"
            ],
            [
             0.2222222222222222,
             "#7201a8"
            ],
            [
             0.3333333333333333,
             "#9c179e"
            ],
            [
             0.4444444444444444,
             "#bd3786"
            ],
            [
             0.5555555555555556,
             "#d8576b"
            ],
            [
             0.6666666666666666,
             "#ed7953"
            ],
            [
             0.7777777777777778,
             "#fb9f3a"
            ],
            [
             0.8888888888888888,
             "#fdca26"
            ],
            [
             1,
             "#f0f921"
            ]
           ],
           "sequentialminus": [
            [
             0,
             "#0d0887"
            ],
            [
             0.1111111111111111,
             "#46039f"
            ],
            [
             0.2222222222222222,
             "#7201a8"
            ],
            [
             0.3333333333333333,
             "#9c179e"
            ],
            [
             0.4444444444444444,
             "#bd3786"
            ],
            [
             0.5555555555555556,
             "#d8576b"
            ],
            [
             0.6666666666666666,
             "#ed7953"
            ],
            [
             0.7777777777777778,
             "#fb9f3a"
            ],
            [
             0.8888888888888888,
             "#fdca26"
            ],
            [
             1,
             "#f0f921"
            ]
           ]
          },
          "colorway": [
           "#636efa",
           "#EF553B",
           "#00cc96",
           "#ab63fa",
           "#FFA15A",
           "#19d3f3",
           "#FF6692",
           "#B6E880",
           "#FF97FF",
           "#FECB52"
          ],
          "font": {
           "color": "#2a3f5f"
          },
          "geo": {
           "bgcolor": "white",
           "lakecolor": "white",
           "landcolor": "#E5ECF6",
           "showlakes": true,
           "showland": true,
           "subunitcolor": "white"
          },
          "hoverlabel": {
           "align": "left"
          },
          "hovermode": "closest",
          "mapbox": {
           "style": "light"
          },
          "paper_bgcolor": "white",
          "plot_bgcolor": "#E5ECF6",
          "polar": {
           "angularaxis": {
            "gridcolor": "white",
            "linecolor": "white",
            "ticks": ""
           },
           "bgcolor": "#E5ECF6",
           "radialaxis": {
            "gridcolor": "white",
            "linecolor": "white",
            "ticks": ""
           }
          },
          "scene": {
           "xaxis": {
            "backgroundcolor": "#E5ECF6",
            "gridcolor": "white",
            "gridwidth": 2,
            "linecolor": "white",
            "showbackground": true,
            "ticks": "",
            "zerolinecolor": "white"
           },
           "yaxis": {
            "backgroundcolor": "#E5ECF6",
            "gridcolor": "white",
            "gridwidth": 2,
            "linecolor": "white",
            "showbackground": true,
            "ticks": "",
            "zerolinecolor": "white"
           },
           "zaxis": {
            "backgroundcolor": "#E5ECF6",
            "gridcolor": "white",
            "gridwidth": 2,
            "linecolor": "white",
            "showbackground": true,
            "ticks": "",
            "zerolinecolor": "white"
           }
          },
          "shapedefaults": {
           "line": {
            "color": "#2a3f5f"
           }
          },
          "ternary": {
           "aaxis": {
            "gridcolor": "white",
            "linecolor": "white",
            "ticks": ""
           },
           "baxis": {
            "gridcolor": "white",
            "linecolor": "white",
            "ticks": ""
           },
           "bgcolor": "#E5ECF6",
           "caxis": {
            "gridcolor": "white",
            "linecolor": "white",
            "ticks": ""
           }
          },
          "title": {
           "x": 0.05
          },
          "xaxis": {
           "automargin": true,
           "gridcolor": "white",
           "linecolor": "white",
           "ticks": "",
           "title": {
            "standoff": 15
           },
           "zerolinecolor": "white",
           "zerolinewidth": 2
          },
          "yaxis": {
           "automargin": true,
           "gridcolor": "white",
           "linecolor": "white",
           "ticks": "",
           "title": {
            "standoff": 15
           },
           "zerolinecolor": "white",
           "zerolinewidth": 2
          }
         }
        },
        "xaxis": {
         "anchor": "y",
         "domain": [
          0,
          1
         ],
         "title": {
          "text": "0"
         },
         "zeroline": true,
         "zerolinecolor": "Black",
         "zerolinewidth": 1
        },
        "yaxis": {
         "anchor": "x",
         "domain": [
          0,
          1
         ],
         "title": {
          "text": "1"
         },
         "zeroline": true,
         "zerolinecolor": "Black",
         "zerolinewidth": 1
        }
       }
      }
     },
     "metadata": {},
     "output_type": "display_data"
    }
   ],
   "source": [
    "\n",
    "fig = px.scatter(principalComponents, x=0, y=1, color=finalDf['Perde'], color_continuous_scale=[\"green\", \"red\"])\n",
    "fig.update_xaxes(zeroline=True, zerolinewidth=1, zerolinecolor='Black')\n",
    "fig.update_yaxes(zeroline=True, zerolinewidth=1, zerolinecolor='Black')\n",
    "\n",
    "\n",
    "fig.show()"
   ]
  },
  {
   "cell_type": "markdown",
   "metadata": {},
   "source": [
    "# Variância explicada"
   ]
  },
  {
   "cell_type": "code",
   "execution_count": 536,
   "metadata": {},
   "outputs": [
    {
     "data": {
      "application/vnd.plotly.v1+json": {
       "config": {
        "plotlyServerURL": "https://plot.ly"
       },
       "data": [
        {
         "hovertemplate": "# Componentes=%{x}<br>Variância=%{y}<extra></extra>",
         "legendgroup": "",
         "line": {
          "color": "#636efa"
         },
         "mode": "lines",
         "name": "",
         "orientation": "v",
         "showlegend": false,
         "stackgroup": "1",
         "type": "scatter",
         "x": [
          1,
          2
         ],
         "xaxis": "x",
         "y": [
          0.772745556896845,
          0.9394743419082181
         ],
         "yaxis": "y"
        }
       ],
       "layout": {
        "legend": {
         "tracegroupgap": 0
        },
        "margin": {
         "t": 60
        },
        "template": {
         "data": {
          "bar": [
           {
            "error_x": {
             "color": "#2a3f5f"
            },
            "error_y": {
             "color": "#2a3f5f"
            },
            "marker": {
             "line": {
              "color": "#E5ECF6",
              "width": 0.5
             },
             "pattern": {
              "fillmode": "overlay",
              "size": 10,
              "solidity": 0.2
             }
            },
            "type": "bar"
           }
          ],
          "barpolar": [
           {
            "marker": {
             "line": {
              "color": "#E5ECF6",
              "width": 0.5
             },
             "pattern": {
              "fillmode": "overlay",
              "size": 10,
              "solidity": 0.2
             }
            },
            "type": "barpolar"
           }
          ],
          "carpet": [
           {
            "aaxis": {
             "endlinecolor": "#2a3f5f",
             "gridcolor": "white",
             "linecolor": "white",
             "minorgridcolor": "white",
             "startlinecolor": "#2a3f5f"
            },
            "baxis": {
             "endlinecolor": "#2a3f5f",
             "gridcolor": "white",
             "linecolor": "white",
             "minorgridcolor": "white",
             "startlinecolor": "#2a3f5f"
            },
            "type": "carpet"
           }
          ],
          "choropleth": [
           {
            "colorbar": {
             "outlinewidth": 0,
             "ticks": ""
            },
            "type": "choropleth"
           }
          ],
          "contour": [
           {
            "colorbar": {
             "outlinewidth": 0,
             "ticks": ""
            },
            "colorscale": [
             [
              0,
              "#0d0887"
             ],
             [
              0.1111111111111111,
              "#46039f"
             ],
             [
              0.2222222222222222,
              "#7201a8"
             ],
             [
              0.3333333333333333,
              "#9c179e"
             ],
             [
              0.4444444444444444,
              "#bd3786"
             ],
             [
              0.5555555555555556,
              "#d8576b"
             ],
             [
              0.6666666666666666,
              "#ed7953"
             ],
             [
              0.7777777777777778,
              "#fb9f3a"
             ],
             [
              0.8888888888888888,
              "#fdca26"
             ],
             [
              1,
              "#f0f921"
             ]
            ],
            "type": "contour"
           }
          ],
          "contourcarpet": [
           {
            "colorbar": {
             "outlinewidth": 0,
             "ticks": ""
            },
            "type": "contourcarpet"
           }
          ],
          "heatmap": [
           {
            "colorbar": {
             "outlinewidth": 0,
             "ticks": ""
            },
            "colorscale": [
             [
              0,
              "#0d0887"
             ],
             [
              0.1111111111111111,
              "#46039f"
             ],
             [
              0.2222222222222222,
              "#7201a8"
             ],
             [
              0.3333333333333333,
              "#9c179e"
             ],
             [
              0.4444444444444444,
              "#bd3786"
             ],
             [
              0.5555555555555556,
              "#d8576b"
             ],
             [
              0.6666666666666666,
              "#ed7953"
             ],
             [
              0.7777777777777778,
              "#fb9f3a"
             ],
             [
              0.8888888888888888,
              "#fdca26"
             ],
             [
              1,
              "#f0f921"
             ]
            ],
            "type": "heatmap"
           }
          ],
          "heatmapgl": [
           {
            "colorbar": {
             "outlinewidth": 0,
             "ticks": ""
            },
            "colorscale": [
             [
              0,
              "#0d0887"
             ],
             [
              0.1111111111111111,
              "#46039f"
             ],
             [
              0.2222222222222222,
              "#7201a8"
             ],
             [
              0.3333333333333333,
              "#9c179e"
             ],
             [
              0.4444444444444444,
              "#bd3786"
             ],
             [
              0.5555555555555556,
              "#d8576b"
             ],
             [
              0.6666666666666666,
              "#ed7953"
             ],
             [
              0.7777777777777778,
              "#fb9f3a"
             ],
             [
              0.8888888888888888,
              "#fdca26"
             ],
             [
              1,
              "#f0f921"
             ]
            ],
            "type": "heatmapgl"
           }
          ],
          "histogram": [
           {
            "marker": {
             "pattern": {
              "fillmode": "overlay",
              "size": 10,
              "solidity": 0.2
             }
            },
            "type": "histogram"
           }
          ],
          "histogram2d": [
           {
            "colorbar": {
             "outlinewidth": 0,
             "ticks": ""
            },
            "colorscale": [
             [
              0,
              "#0d0887"
             ],
             [
              0.1111111111111111,
              "#46039f"
             ],
             [
              0.2222222222222222,
              "#7201a8"
             ],
             [
              0.3333333333333333,
              "#9c179e"
             ],
             [
              0.4444444444444444,
              "#bd3786"
             ],
             [
              0.5555555555555556,
              "#d8576b"
             ],
             [
              0.6666666666666666,
              "#ed7953"
             ],
             [
              0.7777777777777778,
              "#fb9f3a"
             ],
             [
              0.8888888888888888,
              "#fdca26"
             ],
             [
              1,
              "#f0f921"
             ]
            ],
            "type": "histogram2d"
           }
          ],
          "histogram2dcontour": [
           {
            "colorbar": {
             "outlinewidth": 0,
             "ticks": ""
            },
            "colorscale": [
             [
              0,
              "#0d0887"
             ],
             [
              0.1111111111111111,
              "#46039f"
             ],
             [
              0.2222222222222222,
              "#7201a8"
             ],
             [
              0.3333333333333333,
              "#9c179e"
             ],
             [
              0.4444444444444444,
              "#bd3786"
             ],
             [
              0.5555555555555556,
              "#d8576b"
             ],
             [
              0.6666666666666666,
              "#ed7953"
             ],
             [
              0.7777777777777778,
              "#fb9f3a"
             ],
             [
              0.8888888888888888,
              "#fdca26"
             ],
             [
              1,
              "#f0f921"
             ]
            ],
            "type": "histogram2dcontour"
           }
          ],
          "mesh3d": [
           {
            "colorbar": {
             "outlinewidth": 0,
             "ticks": ""
            },
            "type": "mesh3d"
           }
          ],
          "parcoords": [
           {
            "line": {
             "colorbar": {
              "outlinewidth": 0,
              "ticks": ""
             }
            },
            "type": "parcoords"
           }
          ],
          "pie": [
           {
            "automargin": true,
            "type": "pie"
           }
          ],
          "scatter": [
           {
            "marker": {
             "colorbar": {
              "outlinewidth": 0,
              "ticks": ""
             }
            },
            "type": "scatter"
           }
          ],
          "scatter3d": [
           {
            "line": {
             "colorbar": {
              "outlinewidth": 0,
              "ticks": ""
             }
            },
            "marker": {
             "colorbar": {
              "outlinewidth": 0,
              "ticks": ""
             }
            },
            "type": "scatter3d"
           }
          ],
          "scattercarpet": [
           {
            "marker": {
             "colorbar": {
              "outlinewidth": 0,
              "ticks": ""
             }
            },
            "type": "scattercarpet"
           }
          ],
          "scattergeo": [
           {
            "marker": {
             "colorbar": {
              "outlinewidth": 0,
              "ticks": ""
             }
            },
            "type": "scattergeo"
           }
          ],
          "scattergl": [
           {
            "marker": {
             "colorbar": {
              "outlinewidth": 0,
              "ticks": ""
             }
            },
            "type": "scattergl"
           }
          ],
          "scattermapbox": [
           {
            "marker": {
             "colorbar": {
              "outlinewidth": 0,
              "ticks": ""
             }
            },
            "type": "scattermapbox"
           }
          ],
          "scatterpolar": [
           {
            "marker": {
             "colorbar": {
              "outlinewidth": 0,
              "ticks": ""
             }
            },
            "type": "scatterpolar"
           }
          ],
          "scatterpolargl": [
           {
            "marker": {
             "colorbar": {
              "outlinewidth": 0,
              "ticks": ""
             }
            },
            "type": "scatterpolargl"
           }
          ],
          "scatterternary": [
           {
            "marker": {
             "colorbar": {
              "outlinewidth": 0,
              "ticks": ""
             }
            },
            "type": "scatterternary"
           }
          ],
          "surface": [
           {
            "colorbar": {
             "outlinewidth": 0,
             "ticks": ""
            },
            "colorscale": [
             [
              0,
              "#0d0887"
             ],
             [
              0.1111111111111111,
              "#46039f"
             ],
             [
              0.2222222222222222,
              "#7201a8"
             ],
             [
              0.3333333333333333,
              "#9c179e"
             ],
             [
              0.4444444444444444,
              "#bd3786"
             ],
             [
              0.5555555555555556,
              "#d8576b"
             ],
             [
              0.6666666666666666,
              "#ed7953"
             ],
             [
              0.7777777777777778,
              "#fb9f3a"
             ],
             [
              0.8888888888888888,
              "#fdca26"
             ],
             [
              1,
              "#f0f921"
             ]
            ],
            "type": "surface"
           }
          ],
          "table": [
           {
            "cells": {
             "fill": {
              "color": "#EBF0F8"
             },
             "line": {
              "color": "white"
             }
            },
            "header": {
             "fill": {
              "color": "#C8D4E3"
             },
             "line": {
              "color": "white"
             }
            },
            "type": "table"
           }
          ]
         },
         "layout": {
          "annotationdefaults": {
           "arrowcolor": "#2a3f5f",
           "arrowhead": 0,
           "arrowwidth": 1
          },
          "autotypenumbers": "strict",
          "coloraxis": {
           "colorbar": {
            "outlinewidth": 0,
            "ticks": ""
           }
          },
          "colorscale": {
           "diverging": [
            [
             0,
             "#8e0152"
            ],
            [
             0.1,
             "#c51b7d"
            ],
            [
             0.2,
             "#de77ae"
            ],
            [
             0.3,
             "#f1b6da"
            ],
            [
             0.4,
             "#fde0ef"
            ],
            [
             0.5,
             "#f7f7f7"
            ],
            [
             0.6,
             "#e6f5d0"
            ],
            [
             0.7,
             "#b8e186"
            ],
            [
             0.8,
             "#7fbc41"
            ],
            [
             0.9,
             "#4d9221"
            ],
            [
             1,
             "#276419"
            ]
           ],
           "sequential": [
            [
             0,
             "#0d0887"
            ],
            [
             0.1111111111111111,
             "#46039f"
            ],
            [
             0.2222222222222222,
             "#7201a8"
            ],
            [
             0.3333333333333333,
             "#9c179e"
            ],
            [
             0.4444444444444444,
             "#bd3786"
            ],
            [
             0.5555555555555556,
             "#d8576b"
            ],
            [
             0.6666666666666666,
             "#ed7953"
            ],
            [
             0.7777777777777778,
             "#fb9f3a"
            ],
            [
             0.8888888888888888,
             "#fdca26"
            ],
            [
             1,
             "#f0f921"
            ]
           ],
           "sequentialminus": [
            [
             0,
             "#0d0887"
            ],
            [
             0.1111111111111111,
             "#46039f"
            ],
            [
             0.2222222222222222,
             "#7201a8"
            ],
            [
             0.3333333333333333,
             "#9c179e"
            ],
            [
             0.4444444444444444,
             "#bd3786"
            ],
            [
             0.5555555555555556,
             "#d8576b"
            ],
            [
             0.6666666666666666,
             "#ed7953"
            ],
            [
             0.7777777777777778,
             "#fb9f3a"
            ],
            [
             0.8888888888888888,
             "#fdca26"
            ],
            [
             1,
             "#f0f921"
            ]
           ]
          },
          "colorway": [
           "#636efa",
           "#EF553B",
           "#00cc96",
           "#ab63fa",
           "#FFA15A",
           "#19d3f3",
           "#FF6692",
           "#B6E880",
           "#FF97FF",
           "#FECB52"
          ],
          "font": {
           "color": "#2a3f5f"
          },
          "geo": {
           "bgcolor": "white",
           "lakecolor": "white",
           "landcolor": "#E5ECF6",
           "showlakes": true,
           "showland": true,
           "subunitcolor": "white"
          },
          "hoverlabel": {
           "align": "left"
          },
          "hovermode": "closest",
          "mapbox": {
           "style": "light"
          },
          "paper_bgcolor": "white",
          "plot_bgcolor": "#E5ECF6",
          "polar": {
           "angularaxis": {
            "gridcolor": "white",
            "linecolor": "white",
            "ticks": ""
           },
           "bgcolor": "#E5ECF6",
           "radialaxis": {
            "gridcolor": "white",
            "linecolor": "white",
            "ticks": ""
           }
          },
          "scene": {
           "xaxis": {
            "backgroundcolor": "#E5ECF6",
            "gridcolor": "white",
            "gridwidth": 2,
            "linecolor": "white",
            "showbackground": true,
            "ticks": "",
            "zerolinecolor": "white"
           },
           "yaxis": {
            "backgroundcolor": "#E5ECF6",
            "gridcolor": "white",
            "gridwidth": 2,
            "linecolor": "white",
            "showbackground": true,
            "ticks": "",
            "zerolinecolor": "white"
           },
           "zaxis": {
            "backgroundcolor": "#E5ECF6",
            "gridcolor": "white",
            "gridwidth": 2,
            "linecolor": "white",
            "showbackground": true,
            "ticks": "",
            "zerolinecolor": "white"
           }
          },
          "shapedefaults": {
           "line": {
            "color": "#2a3f5f"
           }
          },
          "ternary": {
           "aaxis": {
            "gridcolor": "white",
            "linecolor": "white",
            "ticks": ""
           },
           "baxis": {
            "gridcolor": "white",
            "linecolor": "white",
            "ticks": ""
           },
           "bgcolor": "#E5ECF6",
           "caxis": {
            "gridcolor": "white",
            "linecolor": "white",
            "ticks": ""
           }
          },
          "title": {
           "x": 0.05
          },
          "xaxis": {
           "automargin": true,
           "gridcolor": "white",
           "linecolor": "white",
           "ticks": "",
           "title": {
            "standoff": 15
           },
           "zerolinecolor": "white",
           "zerolinewidth": 2
          },
          "yaxis": {
           "automargin": true,
           "gridcolor": "white",
           "linecolor": "white",
           "ticks": "",
           "title": {
            "standoff": 15
           },
           "zerolinecolor": "white",
           "zerolinewidth": 2
          }
         }
        },
        "xaxis": {
         "anchor": "y",
         "domain": [
          0,
          1
         ],
         "title": {
          "text": "# Componentes"
         }
        },
        "yaxis": {
         "anchor": "x",
         "domain": [
          0,
          1
         ],
         "title": {
          "text": "Variância"
         }
        }
       }
      }
     },
     "metadata": {},
     "output_type": "display_data"
    }
   ],
   "source": [
    "pca.fit(finalDf)\n",
    "exp_var_cumul = np.cumsum(pca.explained_variance_ratio_)\n",
    "\n",
    "px.area(\n",
    "    x=range(1, exp_var_cumul.shape[0] + 1),\n",
    "    y=exp_var_cumul,\n",
    "    labels={\"x\": \"# Componentes\", \"y\": \"Variância\"}\n",
    ")"
   ]
  },
  {
   "cell_type": "markdown",
   "metadata": {},
   "source": [
    "# Biplot da PCA"
   ]
  },
  {
   "cell_type": "code",
   "execution_count": 537,
   "metadata": {},
   "outputs": [
    {
     "data": {
      "application/vnd.plotly.v1+json": {
       "config": {
        "plotlyServerURL": "https://plot.ly"
       },
       "data": [
        {
         "hovertemplate": "0=%{x}<br>1=%{y}<br>color=%{marker.color}<extra></extra>",
         "legendgroup": "",
         "marker": {
          "color": [
           1,
           0,
           1,
           1,
           1,
           1,
           1,
           1,
           0,
           0,
           0,
           0,
           0,
           0,
           1,
           1,
           0,
           1,
           1,
           1,
           1,
           1,
           0,
           1,
           1,
           1,
           0,
           1,
           0,
           1,
           1,
           1,
           1,
           1,
           1,
           1,
           1,
           1,
           1,
           1,
           1,
           1,
           1,
           1,
           1,
           1,
           1,
           1,
           1,
           1,
           1,
           1,
           1,
           0,
           1,
           1,
           1,
           1,
           1,
           1,
           1,
           1,
           1,
           1,
           1,
           0,
           1,
           1,
           1,
           0,
           0,
           1,
           1,
           0,
           1,
           0,
           1,
           0,
           0,
           1,
           1,
           1,
           1,
           1,
           1,
           1,
           1,
           1,
           1,
           1,
           0,
           0,
           0,
           1,
           1,
           1,
           0,
           1,
           1,
           0,
           1,
           1,
           1,
           1,
           1,
           0,
           1,
           1,
           0,
           0,
           0,
           0,
           1,
           1,
           0,
           0,
           0,
           0,
           0,
           0,
           0,
           0,
           0,
           1,
           1,
           0,
           1,
           1,
           1,
           1,
           1,
           1,
           1,
           1,
           1,
           0,
           0,
           1,
           1,
           0,
           0,
           0,
           0,
           1,
           0,
           1,
           1,
           1,
           1,
           1,
           1,
           0,
           0,
           0,
           1,
           0,
           1,
           1,
           0,
           0,
           0,
           0,
           0,
           0,
           1,
           0,
           1,
           0,
           0,
           0,
           0,
           1,
           0,
           1,
           1,
           0,
           0,
           1,
           1,
           1,
           0,
           0,
           0,
           0,
           0,
           0,
           0,
           0,
           0,
           0,
           0,
           0,
           1,
           1,
           1,
           0,
           1,
           0,
           0,
           1,
           0,
           0,
           0,
           1,
           1,
           1,
           0,
           1,
           0,
           0,
           1,
           0,
           0,
           0,
           1,
           1,
           0,
           0,
           0,
           1,
           1,
           0,
           1,
           0,
           1,
           0,
           0,
           0,
           0,
           0,
           0,
           0,
           1,
           1,
           0,
           1,
           0,
           1,
           1,
           0,
           0,
           0,
           1,
           0,
           1,
           1,
           1,
           1,
           1,
           0,
           1,
           1,
           0,
           0,
           1,
           0,
           0,
           1,
           1,
           1
          ],
          "coloraxis": "coloraxis",
          "symbol": "circle"
         },
         "mode": "markers",
         "name": "",
         "orientation": "v",
         "showlegend": false,
         "type": "scatter",
         "x": [
          -2.96263396438083,
          -2.790504805610319,
          -2.9045100045711125,
          -3.03810888356816,
          -3.191561639219038,
          -2.225752426155696,
          -2.0652378634717476,
          -1.847359832627493,
          -3.3260530318327204,
          -3.280594843046956,
          -3.144461859082733,
          -3.8953068605011234,
          -3.7087790518932104,
          -3.4798328916748207,
          -1.2759975783420152,
          -1.0317351563371222,
          -1.3809260758971607,
          -2.651870740934847,
          -2.8748275038811877,
          -0.7838886225908557,
          -0.7719465342932277,
          -0.9843080932797951,
          -3.4073306512017174,
          -1.8436274886362252,
          -1.979608741080615,
          -2.0839952893200064,
          -3.256350960705861,
          -1.3414438519866598,
          -3.1435025063681308,
          -1.5411909040055036,
          -1.6631311279157763,
          -0.20102302832473004,
          -0.8406689149754057,
          -0.6805077171469869,
          -0.8770361600324442,
          -1.0256780562375571,
          -1.2064729529318043,
          -0.2034075386992444,
          -0.07548430302236928,
          -0.5220913873798971,
          -0.6690368663453701,
          -0.7717900305330055,
          -1.1347921313129594,
          -0.7733642127128256,
          -0.6106456840960147,
          -0.3355952104501353,
          -1.266353846931353,
          -1.674473507071464,
          -1.8631771769206356,
          -1.5493669543241197,
          -1.9793715753137133,
          -0.46383687980259636,
          -0.3730151300926109,
          -0.3797193096303081,
          -1.8143541257792632,
          -0.08172027747357379,
          -1.9483132502174083,
          1.0842968094621601,
          1.0358266705894152,
          -1.9959540189539935,
          1.2092146014937228,
          -0.2855124045466725,
          0.2469163905582441,
          0.14359199132494332,
          0.37628470782873036,
          -0.17520176007435853,
          -0.1023046420183026,
          -0.571360455064254,
          -0.6600975625545659,
          -0.015370840044743123,
          -1.724943058691555,
          -0.9353308562409326,
          -1.696722782027435,
          -1.5543367891377182,
          -0.4960782506374954,
          -1.376302408958385,
          -1.2567789675345522,
          -1.4957558575649585,
          -1.6313795983989108,
          1.7227470603267214,
          1.5393641446153143,
          -0.6359419347751598,
          -0.22547210779371538,
          -0.3201424618877029,
          1.4913572121378262,
          -0.27218190441674617,
          -0.9285925396574596,
          -1.093249895076087,
          -1.1825242055598215,
          -1.2558945276110878,
          -1.506258394458578,
          -0.24482260038983114,
          -0.1731517648749656,
          1.8571289571476803,
          1.907449949890607,
          1.7437237251262574,
          -0.10992981530350056,
          -0.42042521860772836,
          -0.539285385092825,
          -1.2011643943047554,
          -0.21554382597275074,
          0.09948066755688238,
          -0.17751013732138193,
          -0.7329122209815851,
          -0.0634291835664372,
          0.07654471055191374,
          0.14543784018234635,
          0.18678158615848525,
          -1.1048213509671236,
          -1.8167508070344816,
          -1.753981698886703,
          -1.6291279166612176,
          1.0688154217577663,
          1.1607122190302,
          -1.524752134655631,
          -1.2836051468008465,
          -1.1759510981823744,
          -0.9216634793448039,
          1.3136989120071796,
          -1.3700644645074713,
          -0.9295943149763964,
          -0.22954879749162216,
          -0.9020803031255934,
          -0.3593465745073888,
          0.7669305814458908,
          0.29370382592055094,
          0.5129665341719996,
          0.4497639264149513,
          0.4046486201965169,
          0.5063593907427677,
          0.1828380867610143,
          0.19894254254291388,
          0.4038023233222627,
          0.052858252062506814,
          -0.32653086018848476,
          -0.6632931989829899,
          -0.6369560719896887,
          0.7447239412018383,
          -0.06985462750303562,
          -0.05567210575849267,
          -0.6709540326720924,
          0.39793068951980537,
          -0.48601137415230244,
          0.6346991253811826,
          -0.43942889187737766,
          0.3875952961696234,
          2.1188141121368087,
          0.9599604914654245,
          0.882461842247197,
          0.48748679444986814,
          0.03608621458536944,
          -0.0484387273679085,
          0.07175979950178628,
          0.0319899727981277,
          -0.24666975468583688,
          0.3732979423419125,
          0.09967643148763886,
          0.740115158002664,
          0.7950470283633024,
          -0.5467605521008031,
          0.04281442962521891,
          -0.23497859760365444,
          0.06041962499906182,
          1.6221272553688448,
          -0.1407790015449959,
          -1.0949195625844346,
          0.4717400887922004,
          0.3619902697942056,
          -0.48762787894293586,
          -1.0254131585697368,
          0.15633982591626447,
          1.0788464704270202,
          0.31681571588544793,
          0.561527259030981,
          -0.393506566324344,
          1.4290956786029905,
          0.04948276809308445,
          0.30135788870317903,
          1.840349963091826,
          1.6659235796149576,
          0.7664065442226633,
          1.2199715550459607,
          1.5476430891167998,
          1.0748255187848752,
          0.34643335773894474,
          -0.050027564589593655,
          1.3410378092253823,
          1.0995124028558965,
          0.5031177667378333,
          0.6597592339176601,
          -0.16269639217733656,
          0.04641610781331295,
          -0.9163065615565336,
          -0.9072085824038312,
          1.1771016208833216,
          0.712552803982262,
          -0.7157755869684569,
          -0.06517537648310323,
          1.0370230484939016,
          0.0692809744297097,
          0.05298196286695388,
          0.6109072694745218,
          1.0813803423774002,
          1.031957936616759,
          0.6517159334991639,
          0.878874710284291,
          1.6614746279223833,
          0.7248035904226905,
          0.5943139676600864,
          2.318195435521959,
          0.4234904005294838,
          0.6001386452819852,
          0.620115129135617,
          0.8975682548943483,
          2.907779520537112,
          0.39591314067412126,
          0.5207229738750494,
          0.5714103812528516,
          1.2750483923014992,
          1.454142527045896,
          -0.041188980008831665,
          0.21429425091085255,
          1.3139086398083841,
          0.4271835474660586,
          1.4532559467050439,
          0.4180575411043843,
          1.3739600092158513,
          0.5240942908844819,
          0.6150373323170629,
          1.481061414723266,
          0.6903719566433492,
          1.6455189679142466,
          1.4910811803707442,
          2.3735487285793107,
          1.4875250260771862,
          2.257563493655788,
          1.0766497437444464,
          -0.18962677829133756,
          2.447781234947752,
          -0.15491958672823097,
          1.4115865883821197,
          -0.06951589152752224,
          1.597560388660965,
          1.2219035738733304,
          1.6936795259096045,
          3.223994047110585,
          3.45131016255544,
          3.7724552962360804,
          3.4376613054322056,
          3.481480129709241,
          3.9025661341666655,
          2.1337386425930447,
          2.134216619269233,
          2.0621920038278336,
          3.1571426859066047,
          3.46804325865263,
          3.600088677450512,
          4.7425040483894465,
          4.312758448253041,
          4.438607997201875
         ],
         "xaxis": "x",
         "y": [
          0.6454182605737461,
          0.728772602419098,
          0.5008846633588713,
          0.3936682724538114,
          0.2716684119023923,
          0.7289820902858188,
          0.8185854506304858,
          0.9367257752138631,
          -0.07864079400297175,
          -0.0619643841884896,
          0.010106434867513352,
          -0.6980891920320288,
          -0.658856973647265,
          -0.5930759459928282,
          0.8105508081602039,
          0.9509716453941343,
          0.7412834110589592,
          -0.15469993511375055,
          -0.35506341958014,
          0.7869882162003022,
          0.803750835690068,
          0.6686203320615484,
          -0.9413114571794873,
          0.08770105074398873,
          -0.004266205248447722,
          -0.0753254286634729,
          -0.8677161634687968,
          0.3844638991410313,
          -0.8293338143739947,
          0.25490608333013953,
          0.17005179547122076,
          1.0581478619377969,
          0.6174140900731401,
          0.7667627554461013,
          0.6349743094790754,
          0.4733982793215661,
          0.32661379733934565,
          0.9230756031610713,
          1.0085993903299755,
          0.6996834974477796,
          0.5823319661212935,
          0.48630060057625135,
          0.2375051959289243,
          0.5259126398521684,
          0.6253042808461514,
          0.7846530841668211,
          0.1088744875212709,
          -0.09646222898966728,
          -0.22516998799280155,
          -0.09638266351328915,
          -0.3381707039916047,
          0.5561284016033823,
          0.6051830823053339,
          0.5930142033602058,
          -0.3817381957248783,
          0.7574745256576065,
          -0.4937277490218443,
          1.43918842431788,
          1.4257993632097608,
          -0.5639457069334737,
          1.530237214885571,
          0.5879227431168027,
          0.9038511747422819,
          0.8344493232893139,
          0.9893237788189793,
          0.6380479100933153,
          0.6788166064249886,
          0.35889681366257403,
          0.28115603520340177,
          0.7074312104909903,
          -0.4112834620379795,
          0.10208519205652618,
          -0.4148688195949919,
          -0.3368436312800741,
          0.3891214966114721,
          -0.24646733375152294,
          -0.19438186288055964,
          -0.33298778388154393,
          -0.39346539060233265,
          1.7219262721190849,
          1.6163556371518846,
          0.12443357146402746,
          0.4702188891979431,
          0.4066320767450252,
          1.5821382632272163,
          0.4223687695129503,
          -0.06843040233529034,
          -0.10792666686507293,
          -0.17096707568914202,
          -0.2238501489979588,
          -0.3614167373112021,
          0.38477844140014866,
          0.39784886975703265,
          1.725561488020665,
          1.7560885498031378,
          1.6679651960781354,
          0.41509236837376945,
          0.24135919380279441,
          0.13997601092685266,
          -0.35745599033371506,
          0.29723824386901876,
          0.48676932190481803,
          0.33295087584169575,
          0.002899342428165502,
          0.4035889135973072,
          0.485829581060473,
          0.5236412651671049,
          0.541792706368967,
          -0.3664859662518777,
          -0.769275013897568,
          -0.7435572992926802,
          -0.6840543839926748,
          0.9388065725516543,
          0.9912604620260608,
          -0.6575337942953277,
          -0.5375059013100687,
          -0.4647031977068237,
          -0.3757090405203446,
          1.0517020802675416,
          -0.6165828631603741,
          -0.3499891028912795,
          0.1090425598779521,
          -0.3533287837448866,
          0.009404817991518816,
          0.7357757789484409,
          0.3668595599885309,
          0.5667956514750931,
          0.4653579270732281,
          0.47455511140204615,
          0.44469588496663126,
          0.26380674080060873,
          0.269260177689003,
          0.3217940864584176,
          0.16460694253567335,
          -0.0682243548625827,
          -0.31637101486388436,
          -0.3260303518930604,
          0.5378494806764711,
          -0.05212121188749729,
          -0.05755491779137333,
          -0.41868041184955423,
          0.18908812898232455,
          -0.330080834486366,
          0.39081441862730776,
          -0.305667530497918,
          0.14845357498240602,
          1.1678942090395714,
          0.5083530209916372,
          0.44705245573235824,
          0.18297062171034223,
          -0.11416018654795498,
          -0.1749578760364424,
          -0.11529816205273906,
          -0.138839075583693,
          -0.33710172599838595,
          0.03625075242900139,
          -0.19435880756614626,
          0.18797427202513778,
          0.31351200904210097,
          -0.5992548696837838,
          -0.19521076894206435,
          -0.3769370319605414,
          -0.20588083696283085,
          0.7350640166004623,
          -0.3976142439990224,
          -0.996713603060451,
          -0.024012280900298444,
          -0.10301055365041009,
          -0.6232176103634075,
          -0.9774350764422742,
          -0.16745763529333538,
          0.3440666042631274,
          -0.07819933458170586,
          0.07149172401514742,
          -0.6193920307086451,
          0.5149732039920388,
          -0.2844346561584227,
          -0.20050435335980243,
          0.8399955060331626,
          0.7052680641801705,
          0.023352918035869648,
          0.398080633688754,
          0.5483537636136997,
          0.22687237812956712,
          -0.2709672286536116,
          -0.4974055524822888,
          0.3242568068233986,
          0.11865205545333804,
          -0.2062958235292912,
          -0.0825927148912337,
          -0.6750226352284335,
          -0.48262045634517253,
          -1.1782059724321372,
          -1.1848049878693347,
          0.15203100196478356,
          -0.07121897306048385,
          -1.0630280053589705,
          -0.5821650107507103,
          0.09061759178286018,
          -0.6090909702944269,
          -0.6476428790922717,
          -0.2484378164345252,
          -0.004799464527811102,
          -0.05213739831635347,
          -0.33652566402791184,
          -0.17926796451153085,
          0.30656815422410333,
          -0.2868503549065417,
          -0.37323767124681784,
          0.6581343179178671,
          -0.5283591411276651,
          -0.3859938302266486,
          -0.3973992427960937,
          -0.30322770233911406,
          0.8703714147188584,
          -0.7666397428736867,
          -0.6927762147399417,
          -0.6627694564329387,
          -0.2260846713402737,
          -0.1532980499427598,
          -1.028375195120991,
          -0.8879840271483745,
          -0.2601269613096811,
          -0.78509106111186,
          -0.21429208958244864,
          -0.8062220256236344,
          -0.23099137369198994,
          -0.7522887261202982,
          -0.7183995482558997,
          -0.2051457800395163,
          -0.7191008447507802,
          -0.15089386813804975,
          -0.23860944867601833,
          0.213925697286772,
          -0.3242995630324915,
          0.0831969312432436,
          -0.6236167609075652,
          -1.4369469703261346,
          0.10792923012639793,
          -1.4397795674623184,
          -0.4877563236654264,
          -1.4173748728153261,
          -0.5424260856722257,
          -0.937405039440942,
          -0.6638165771755048,
          -0.1696345618316191,
          -0.03294413130815117,
          0.14837176575143496,
          -0.34093446866987487,
          -0.32854577871042495,
          -0.12553681818387466,
          -1.566900928048381,
          -1.5779511481985635,
          -1.6754361907537854,
          -1.4779684830340285,
          -1.4117453569927083,
          -1.515896418773909,
          -1.4583172097552068,
          -1.6831318154503625,
          -1.6082597384841557
         ],
         "yaxis": "y"
        }
       ],
       "layout": {
        "annotations": [
         {
          "ax": 0,
          "ay": 0,
          "text": "Área de Floresta",
          "x": 1.535779629298845,
          "xanchor": "center",
          "y": 0.007702484766624557,
          "yanchor": "bottom"
         },
         {
          "ax": 0,
          "ay": 0,
          "text": "Produção de Óleo",
          "x": 0.002233862049686282,
          "xanchor": "center",
          "y": -0.6444738096986712,
          "yanchor": "bottom"
         },
         {
          "ax": 0,
          "ay": 0,
          "text": "População",
          "x": 0.033933727999478164,
          "xanchor": "center",
          "y": -0.3061748362639035,
          "yanchor": "bottom"
         }
        ],
        "coloraxis": {
         "colorbar": {
          "title": {
           "text": "color"
          }
         },
         "colorscale": [
          [
           0,
           "green"
          ],
          [
           1,
           "red"
          ]
         ]
        },
        "legend": {
         "tracegroupgap": 0
        },
        "margin": {
         "t": 60
        },
        "shapes": [
         {
          "type": "line",
          "x0": 0,
          "x1": 1.535779629298845,
          "y0": 0,
          "y1": 0.007702484766624557
         },
         {
          "type": "line",
          "x0": 0,
          "x1": 0.002233862049686282,
          "y0": 0,
          "y1": -0.6444738096986712
         },
         {
          "type": "line",
          "x0": 0,
          "x1": 0.033933727999478164,
          "y0": 0,
          "y1": -0.3061748362639035
         }
        ],
        "template": {
         "data": {
          "bar": [
           {
            "error_x": {
             "color": "#2a3f5f"
            },
            "error_y": {
             "color": "#2a3f5f"
            },
            "marker": {
             "line": {
              "color": "#E5ECF6",
              "width": 0.5
             },
             "pattern": {
              "fillmode": "overlay",
              "size": 10,
              "solidity": 0.2
             }
            },
            "type": "bar"
           }
          ],
          "barpolar": [
           {
            "marker": {
             "line": {
              "color": "#E5ECF6",
              "width": 0.5
             },
             "pattern": {
              "fillmode": "overlay",
              "size": 10,
              "solidity": 0.2
             }
            },
            "type": "barpolar"
           }
          ],
          "carpet": [
           {
            "aaxis": {
             "endlinecolor": "#2a3f5f",
             "gridcolor": "white",
             "linecolor": "white",
             "minorgridcolor": "white",
             "startlinecolor": "#2a3f5f"
            },
            "baxis": {
             "endlinecolor": "#2a3f5f",
             "gridcolor": "white",
             "linecolor": "white",
             "minorgridcolor": "white",
             "startlinecolor": "#2a3f5f"
            },
            "type": "carpet"
           }
          ],
          "choropleth": [
           {
            "colorbar": {
             "outlinewidth": 0,
             "ticks": ""
            },
            "type": "choropleth"
           }
          ],
          "contour": [
           {
            "colorbar": {
             "outlinewidth": 0,
             "ticks": ""
            },
            "colorscale": [
             [
              0,
              "#0d0887"
             ],
             [
              0.1111111111111111,
              "#46039f"
             ],
             [
              0.2222222222222222,
              "#7201a8"
             ],
             [
              0.3333333333333333,
              "#9c179e"
             ],
             [
              0.4444444444444444,
              "#bd3786"
             ],
             [
              0.5555555555555556,
              "#d8576b"
             ],
             [
              0.6666666666666666,
              "#ed7953"
             ],
             [
              0.7777777777777778,
              "#fb9f3a"
             ],
             [
              0.8888888888888888,
              "#fdca26"
             ],
             [
              1,
              "#f0f921"
             ]
            ],
            "type": "contour"
           }
          ],
          "contourcarpet": [
           {
            "colorbar": {
             "outlinewidth": 0,
             "ticks": ""
            },
            "type": "contourcarpet"
           }
          ],
          "heatmap": [
           {
            "colorbar": {
             "outlinewidth": 0,
             "ticks": ""
            },
            "colorscale": [
             [
              0,
              "#0d0887"
             ],
             [
              0.1111111111111111,
              "#46039f"
             ],
             [
              0.2222222222222222,
              "#7201a8"
             ],
             [
              0.3333333333333333,
              "#9c179e"
             ],
             [
              0.4444444444444444,
              "#bd3786"
             ],
             [
              0.5555555555555556,
              "#d8576b"
             ],
             [
              0.6666666666666666,
              "#ed7953"
             ],
             [
              0.7777777777777778,
              "#fb9f3a"
             ],
             [
              0.8888888888888888,
              "#fdca26"
             ],
             [
              1,
              "#f0f921"
             ]
            ],
            "type": "heatmap"
           }
          ],
          "heatmapgl": [
           {
            "colorbar": {
             "outlinewidth": 0,
             "ticks": ""
            },
            "colorscale": [
             [
              0,
              "#0d0887"
             ],
             [
              0.1111111111111111,
              "#46039f"
             ],
             [
              0.2222222222222222,
              "#7201a8"
             ],
             [
              0.3333333333333333,
              "#9c179e"
             ],
             [
              0.4444444444444444,
              "#bd3786"
             ],
             [
              0.5555555555555556,
              "#d8576b"
             ],
             [
              0.6666666666666666,
              "#ed7953"
             ],
             [
              0.7777777777777778,
              "#fb9f3a"
             ],
             [
              0.8888888888888888,
              "#fdca26"
             ],
             [
              1,
              "#f0f921"
             ]
            ],
            "type": "heatmapgl"
           }
          ],
          "histogram": [
           {
            "marker": {
             "pattern": {
              "fillmode": "overlay",
              "size": 10,
              "solidity": 0.2
             }
            },
            "type": "histogram"
           }
          ],
          "histogram2d": [
           {
            "colorbar": {
             "outlinewidth": 0,
             "ticks": ""
            },
            "colorscale": [
             [
              0,
              "#0d0887"
             ],
             [
              0.1111111111111111,
              "#46039f"
             ],
             [
              0.2222222222222222,
              "#7201a8"
             ],
             [
              0.3333333333333333,
              "#9c179e"
             ],
             [
              0.4444444444444444,
              "#bd3786"
             ],
             [
              0.5555555555555556,
              "#d8576b"
             ],
             [
              0.6666666666666666,
              "#ed7953"
             ],
             [
              0.7777777777777778,
              "#fb9f3a"
             ],
             [
              0.8888888888888888,
              "#fdca26"
             ],
             [
              1,
              "#f0f921"
             ]
            ],
            "type": "histogram2d"
           }
          ],
          "histogram2dcontour": [
           {
            "colorbar": {
             "outlinewidth": 0,
             "ticks": ""
            },
            "colorscale": [
             [
              0,
              "#0d0887"
             ],
             [
              0.1111111111111111,
              "#46039f"
             ],
             [
              0.2222222222222222,
              "#7201a8"
             ],
             [
              0.3333333333333333,
              "#9c179e"
             ],
             [
              0.4444444444444444,
              "#bd3786"
             ],
             [
              0.5555555555555556,
              "#d8576b"
             ],
             [
              0.6666666666666666,
              "#ed7953"
             ],
             [
              0.7777777777777778,
              "#fb9f3a"
             ],
             [
              0.8888888888888888,
              "#fdca26"
             ],
             [
              1,
              "#f0f921"
             ]
            ],
            "type": "histogram2dcontour"
           }
          ],
          "mesh3d": [
           {
            "colorbar": {
             "outlinewidth": 0,
             "ticks": ""
            },
            "type": "mesh3d"
           }
          ],
          "parcoords": [
           {
            "line": {
             "colorbar": {
              "outlinewidth": 0,
              "ticks": ""
             }
            },
            "type": "parcoords"
           }
          ],
          "pie": [
           {
            "automargin": true,
            "type": "pie"
           }
          ],
          "scatter": [
           {
            "marker": {
             "colorbar": {
              "outlinewidth": 0,
              "ticks": ""
             }
            },
            "type": "scatter"
           }
          ],
          "scatter3d": [
           {
            "line": {
             "colorbar": {
              "outlinewidth": 0,
              "ticks": ""
             }
            },
            "marker": {
             "colorbar": {
              "outlinewidth": 0,
              "ticks": ""
             }
            },
            "type": "scatter3d"
           }
          ],
          "scattercarpet": [
           {
            "marker": {
             "colorbar": {
              "outlinewidth": 0,
              "ticks": ""
             }
            },
            "type": "scattercarpet"
           }
          ],
          "scattergeo": [
           {
            "marker": {
             "colorbar": {
              "outlinewidth": 0,
              "ticks": ""
             }
            },
            "type": "scattergeo"
           }
          ],
          "scattergl": [
           {
            "marker": {
             "colorbar": {
              "outlinewidth": 0,
              "ticks": ""
             }
            },
            "type": "scattergl"
           }
          ],
          "scattermapbox": [
           {
            "marker": {
             "colorbar": {
              "outlinewidth": 0,
              "ticks": ""
             }
            },
            "type": "scattermapbox"
           }
          ],
          "scatterpolar": [
           {
            "marker": {
             "colorbar": {
              "outlinewidth": 0,
              "ticks": ""
             }
            },
            "type": "scatterpolar"
           }
          ],
          "scatterpolargl": [
           {
            "marker": {
             "colorbar": {
              "outlinewidth": 0,
              "ticks": ""
             }
            },
            "type": "scatterpolargl"
           }
          ],
          "scatterternary": [
           {
            "marker": {
             "colorbar": {
              "outlinewidth": 0,
              "ticks": ""
             }
            },
            "type": "scatterternary"
           }
          ],
          "surface": [
           {
            "colorbar": {
             "outlinewidth": 0,
             "ticks": ""
            },
            "colorscale": [
             [
              0,
              "#0d0887"
             ],
             [
              0.1111111111111111,
              "#46039f"
             ],
             [
              0.2222222222222222,
              "#7201a8"
             ],
             [
              0.3333333333333333,
              "#9c179e"
             ],
             [
              0.4444444444444444,
              "#bd3786"
             ],
             [
              0.5555555555555556,
              "#d8576b"
             ],
             [
              0.6666666666666666,
              "#ed7953"
             ],
             [
              0.7777777777777778,
              "#fb9f3a"
             ],
             [
              0.8888888888888888,
              "#fdca26"
             ],
             [
              1,
              "#f0f921"
             ]
            ],
            "type": "surface"
           }
          ],
          "table": [
           {
            "cells": {
             "fill": {
              "color": "#EBF0F8"
             },
             "line": {
              "color": "white"
             }
            },
            "header": {
             "fill": {
              "color": "#C8D4E3"
             },
             "line": {
              "color": "white"
             }
            },
            "type": "table"
           }
          ]
         },
         "layout": {
          "annotationdefaults": {
           "arrowcolor": "#2a3f5f",
           "arrowhead": 0,
           "arrowwidth": 1
          },
          "autotypenumbers": "strict",
          "coloraxis": {
           "colorbar": {
            "outlinewidth": 0,
            "ticks": ""
           }
          },
          "colorscale": {
           "diverging": [
            [
             0,
             "#8e0152"
            ],
            [
             0.1,
             "#c51b7d"
            ],
            [
             0.2,
             "#de77ae"
            ],
            [
             0.3,
             "#f1b6da"
            ],
            [
             0.4,
             "#fde0ef"
            ],
            [
             0.5,
             "#f7f7f7"
            ],
            [
             0.6,
             "#e6f5d0"
            ],
            [
             0.7,
             "#b8e186"
            ],
            [
             0.8,
             "#7fbc41"
            ],
            [
             0.9,
             "#4d9221"
            ],
            [
             1,
             "#276419"
            ]
           ],
           "sequential": [
            [
             0,
             "#0d0887"
            ],
            [
             0.1111111111111111,
             "#46039f"
            ],
            [
             0.2222222222222222,
             "#7201a8"
            ],
            [
             0.3333333333333333,
             "#9c179e"
            ],
            [
             0.4444444444444444,
             "#bd3786"
            ],
            [
             0.5555555555555556,
             "#d8576b"
            ],
            [
             0.6666666666666666,
             "#ed7953"
            ],
            [
             0.7777777777777778,
             "#fb9f3a"
            ],
            [
             0.8888888888888888,
             "#fdca26"
            ],
            [
             1,
             "#f0f921"
            ]
           ],
           "sequentialminus": [
            [
             0,
             "#0d0887"
            ],
            [
             0.1111111111111111,
             "#46039f"
            ],
            [
             0.2222222222222222,
             "#7201a8"
            ],
            [
             0.3333333333333333,
             "#9c179e"
            ],
            [
             0.4444444444444444,
             "#bd3786"
            ],
            [
             0.5555555555555556,
             "#d8576b"
            ],
            [
             0.6666666666666666,
             "#ed7953"
            ],
            [
             0.7777777777777778,
             "#fb9f3a"
            ],
            [
             0.8888888888888888,
             "#fdca26"
            ],
            [
             1,
             "#f0f921"
            ]
           ]
          },
          "colorway": [
           "#636efa",
           "#EF553B",
           "#00cc96",
           "#ab63fa",
           "#FFA15A",
           "#19d3f3",
           "#FF6692",
           "#B6E880",
           "#FF97FF",
           "#FECB52"
          ],
          "font": {
           "color": "#2a3f5f"
          },
          "geo": {
           "bgcolor": "white",
           "lakecolor": "white",
           "landcolor": "#E5ECF6",
           "showlakes": true,
           "showland": true,
           "subunitcolor": "white"
          },
          "hoverlabel": {
           "align": "left"
          },
          "hovermode": "closest",
          "mapbox": {
           "style": "light"
          },
          "paper_bgcolor": "white",
          "plot_bgcolor": "#E5ECF6",
          "polar": {
           "angularaxis": {
            "gridcolor": "white",
            "linecolor": "white",
            "ticks": ""
           },
           "bgcolor": "#E5ECF6",
           "radialaxis": {
            "gridcolor": "white",
            "linecolor": "white",
            "ticks": ""
           }
          },
          "scene": {
           "xaxis": {
            "backgroundcolor": "#E5ECF6",
            "gridcolor": "white",
            "gridwidth": 2,
            "linecolor": "white",
            "showbackground": true,
            "ticks": "",
            "zerolinecolor": "white"
           },
           "yaxis": {
            "backgroundcolor": "#E5ECF6",
            "gridcolor": "white",
            "gridwidth": 2,
            "linecolor": "white",
            "showbackground": true,
            "ticks": "",
            "zerolinecolor": "white"
           },
           "zaxis": {
            "backgroundcolor": "#E5ECF6",
            "gridcolor": "white",
            "gridwidth": 2,
            "linecolor": "white",
            "showbackground": true,
            "ticks": "",
            "zerolinecolor": "white"
           }
          },
          "shapedefaults": {
           "line": {
            "color": "#2a3f5f"
           }
          },
          "ternary": {
           "aaxis": {
            "gridcolor": "white",
            "linecolor": "white",
            "ticks": ""
           },
           "baxis": {
            "gridcolor": "white",
            "linecolor": "white",
            "ticks": ""
           },
           "bgcolor": "#E5ECF6",
           "caxis": {
            "gridcolor": "white",
            "linecolor": "white",
            "ticks": ""
           }
          },
          "title": {
           "x": 0.05
          },
          "xaxis": {
           "automargin": true,
           "gridcolor": "white",
           "linecolor": "white",
           "ticks": "",
           "title": {
            "standoff": 15
           },
           "zerolinecolor": "white",
           "zerolinewidth": 2
          },
          "yaxis": {
           "automargin": true,
           "gridcolor": "white",
           "linecolor": "white",
           "ticks": "",
           "title": {
            "standoff": 15
           },
           "zerolinecolor": "white",
           "zerolinewidth": 2
          }
         }
        },
        "xaxis": {
         "anchor": "y",
         "domain": [
          0,
          1
         ],
         "title": {
          "text": "0"
         }
        },
        "yaxis": {
         "anchor": "x",
         "domain": [
          0,
          1
         ],
         "title": {
          "text": "1"
         }
        }
       }
      }
     },
     "metadata": {},
     "output_type": "display_data"
    }
   ],
   "source": [
    "loadings = pca.components_.T * np.sqrt(pca.explained_variance_)\n",
    "features  = ['Área de Floresta', 'Produção de Óleo', 'População']\n",
    "fig = px.scatter(principalComponents, x=0, y=1, color=finalDf['Perde'], color_continuous_scale=[\"green\", \"red\"])\n",
    "\n",
    "for i, feature in enumerate(features):\n",
    "    fig.add_shape(\n",
    "        type='line',\n",
    "        x0=0, y0=0,\n",
    "        x1=loadings[i, 0],\n",
    "        y1=loadings[i, 1]\n",
    "    )\n",
    "    fig.add_annotation(\n",
    "        x=loadings[i, 0],\n",
    "        y=loadings[i, 1],\n",
    "        ax=0, ay=0,\n",
    "        xanchor=\"center\",\n",
    "        yanchor=\"bottom\",\n",
    "        text=feature,\n",
    "    )\n",
    "fig.show()"
   ]
  },
  {
   "cell_type": "markdown",
   "metadata": {},
   "source": [
    "# Regressão Linear"
   ]
  },
  {
   "cell_type": "code",
   "execution_count": 538,
   "metadata": {},
   "outputs": [],
   "source": [
    "from sklearn.linear_model import LinearRegression, ridge_regression\n",
    "from sklearn import metrics\n",
    "from sklearn.model_selection import train_test_split\n",
    "from sklearn.pipeline import make_pipeline\n",
    "from sklearn.linear_model import LinearRegression\n",
    "from sklearn.model_selection import cross_val_score\n",
    "from sklearn.model_selection import KFold\n",
    "from sklearn.model_selection import RepeatedKFold\n",
    "from sklearn.model_selection import GridSearchCV\n",
    "from sklearn.metrics import accuracy_score\n"
   ]
  },
  {
   "cell_type": "markdown",
   "metadata": {},
   "source": [
    "## Agora é necessário separa os dados de teste e de treino"
   ]
  },
  {
   "cell_type": "code",
   "execution_count": 539,
   "metadata": {},
   "outputs": [],
   "source": [
    "data_train = data[(data['Ano'] == 1990) | (data['Ano'] == 2000)]\n",
    "data_test = data[(data['Ano']== 2010)]\n"
   ]
  },
  {
   "cell_type": "markdown",
   "metadata": {},
   "source": [
    "### Treino"
   ]
  },
  {
   "cell_type": "code",
   "execution_count": 540,
   "metadata": {},
   "outputs": [],
   "source": [
    "data_string_train, data_value_train,  y_train, target_train = separaData(data_train)\n",
    "def trataDados(data_value, y):\n",
    "    data_value = tiraDistorcao(data_value)\n",
    "    y, data_y = yeo_johnson(y)\n",
    "    data_value, y = spatialSign(data_value, y, data_y)\n",
    "    return data_value, y\n",
    "data_value_train.drop(columns=['População'], inplace=True)"
   ]
  },
  {
   "cell_type": "code",
   "execution_count": 541,
   "metadata": {},
   "outputs": [],
   "source": [
    "X_train, y_train = trataDados(data_value_train, y_train)\n"
   ]
  },
  {
   "cell_type": "code",
   "execution_count": 542,
   "metadata": {},
   "outputs": [],
   "source": [
    "data_string_test, data_value_test,  y_test, target_test = separaData(data_test)\n",
    "data_value_test.drop(columns=['População'], inplace=True)\n",
    "X_test, y_test = trataDados(data_value_test, y_test)"
   ]
  },
  {
   "cell_type": "markdown",
   "metadata": {},
   "source": [
    "# Regressão simples"
   ]
  },
  {
   "cell_type": "code",
   "execution_count": 543,
   "metadata": {},
   "outputs": [
    {
     "data": {
      "text/plain": [
       "LinearRegression()"
      ]
     },
     "execution_count": 543,
     "metadata": {},
     "output_type": "execute_result"
    }
   ],
   "source": [
    "modelo = LinearRegression()\n",
    "modelo.fit(X_train, y_train)"
   ]
  },
  {
   "cell_type": "markdown",
   "metadata": {},
   "source": [
    "# Gráficos de cross-validation do modelo"
   ]
  },
  {
   "cell_type": "markdown",
   "metadata": {},
   "source": [
    "# 5 splits"
   ]
  },
  {
   "cell_type": "code",
   "execution_count": 544,
   "metadata": {},
   "outputs": [
    {
     "name": "stdout",
     "output_type": "stream",
     "text": [
      "R² = 0.257\n",
      "-1.106441620474968 \n",
      "\n",
      "-0.010717322387989014\n"
     ]
    },
    {
     "data": {
      "text/plain": [
       "<matplotlib.legend.Legend at 0x7fb2cfae88b0>"
      ]
     },
     "execution_count": 544,
     "metadata": {},
     "output_type": "execute_result"
    },
    {
     "data": {
      "image/png": "[encoded data removed]",
      "text/plain": [
       "<Figure size 432x288 with 1 Axes>"
      ]
     },
     "metadata": {},
     "output_type": "display_data"
    }
   ],
   "source": [
    "print('R² = {}'.format(modelo.score(X_train, y_train).round(3)))\n",
    "folds = KFold(n_splits = 5)\n",
    "scores = cross_val_score(modelo, X_train, y_train, scoring='explained_variance', cv=folds)\n",
    "\n",
    "erro = cross_val_score(modelo, X_train, y_train, scoring='neg_root_mean_squared_error', cv=folds)\n",
    "print(erro.mean(),\"\\n\")\n",
    "print(scores.mean())\n",
    "sns.lineplot(data=scores)\n",
    "sns.lineplot(data=erro*(-1))\n",
    "plt.title(\"Gráfico de Cross-Validação\")\n",
    "plt.legend(labels=['Scores', 'Erro'])"
   ]
  },
  {
   "cell_type": "markdown",
   "metadata": {},
   "source": [
    "# 10 splits"
   ]
  },
  {
   "cell_type": "code",
   "execution_count": 545,
   "metadata": {},
   "outputs": [
    {
     "name": "stdout",
     "output_type": "stream",
     "text": [
      "R² = 0.257\n"
     ]
    },
    {
     "data": {
      "text/plain": [
       "<matplotlib.legend.Legend at 0x7fb2cfa5f100>"
      ]
     },
     "execution_count": 545,
     "metadata": {},
     "output_type": "execute_result"
    },
    {
     "data": {
      "image/png": "[encoded data removed]",
      "text/plain": [
       "<Figure size 432x288 with 1 Axes>"
      ]
     },
     "metadata": {},
     "output_type": "display_data"
    }
   ],
   "source": [
    "print('R² = {}'.format(modelo.score(X_train, y_train).round(3)))\n",
    "folds = KFold(n_splits = 10)\n",
    "scores = cross_val_score(modelo, X_train, y_train, scoring='explained_variance', cv=folds)\n",
    "\n",
    "erro = cross_val_score(modelo, X_train, y_train, scoring='neg_root_mean_squared_error', cv=folds)\n",
    "\n",
    "(np.mean(abs(erro)))\n",
    "sns.lineplot(data=scores)\n",
    "sns.lineplot(data=erro*(-1))\n",
    "plt.title(\"Gráfico de Cross-Validação\")\n",
    "plt.legend(labels=['Scores', 'Erro'])"
   ]
  },
  {
   "cell_type": "markdown",
   "metadata": {},
   "source": [
    "# R² scores "
   ]
  },
  {
   "cell_type": "code",
   "execution_count": 546,
   "metadata": {},
   "outputs": [
    {
     "data": {
      "text/plain": [
       "0.258"
      ]
     },
     "execution_count": 546,
     "metadata": {},
     "output_type": "execute_result"
    }
   ],
   "source": [
    "y_previsto = modelo.predict(X_test)\n",
    "metrics.r2_score(y_test, y_previsto).round(3)\n"
   ]
  },
  {
   "cell_type": "markdown",
   "metadata": {},
   "source": [
    "# Erro"
   ]
  },
  {
   "cell_type": "code",
   "execution_count": 547,
   "metadata": {},
   "outputs": [
    {
     "data": {
      "text/plain": [
       "0.637659371685875"
      ]
     },
     "execution_count": 547,
     "metadata": {},
     "output_type": "execute_result"
    }
   ],
   "source": [
    "error = metrics.mean_squared_error(y_test, y_previsto)\n",
    "error"
   ]
  },
  {
   "cell_type": "code",
   "execution_count": 548,
   "metadata": {},
   "outputs": [
    {
     "data": {
      "image/png": "[encoded data removed]",
      "text/plain": [
       "<Figure size 432x288 with 1 Axes>"
      ]
     },
     "metadata": {},
     "output_type": "display_data"
    }
   ],
   "source": [
    "y_previsto = pd.DataFrame(y_previsto, index=y_test.index, columns=['Teste'])\n",
    "df = pd.concat([data_test, y_previsto], axis=1)\n",
    "#df.sort_values(['Área_de_Floresta'], ascending=False, inplace=True)\n",
    "g = sns.scatterplot(x='Conversão_líquida_de_floresta', y='Teste', data=df, legend=False)"
   ]
  },
  {
   "cell_type": "markdown",
   "metadata": {},
   "source": [
    "# Plot da regressão linear"
   ]
  },
  {
   "cell_type": "code",
   "execution_count": 549,
   "metadata": {},
   "outputs": [
    {
     "data": {
      "image/png": "[encoded data removed]",
      "text/plain": [
       "<Figure size 432x288 with 1 Axes>"
      ]
     },
     "metadata": {},
     "output_type": "display_data"
    }
   ],
   "source": [
    "g = sns.regplot(x='Conversão_líquida_de_floresta', y='Teste', data=df)"
   ]
  },
  {
   "cell_type": "code",
   "execution_count": 550,
   "metadata": {},
   "outputs": [
    {
     "name": "stdout",
     "output_type": "stream",
     "text": [
      "0.10015051111888441\n"
     ]
    }
   ],
   "source": [
    "from sklearn.model_selection import LeaveOneOut\n",
    "\n",
    "cv = LeaveOneOut()\n",
    "\n",
    "erro = cross_val_score(modelo, X_train, y_train, scoring='neg_mean_squared_error',\n",
    "                         cv=10, n_jobs=-1)\n",
    "                        \n",
    "print(np.sqrt(np.mean(abs(scores))))\n"
   ]
  },
  {
   "cell_type": "markdown",
   "metadata": {},
   "source": [
    "# Regressão de Ridge"
   ]
  },
  {
   "cell_type": "code",
   "execution_count": 551,
   "metadata": {},
   "outputs": [],
   "source": [
    "from sklearn.linear_model import Ridge"
   ]
  },
  {
   "cell_type": "markdown",
   "metadata": {},
   "source": [
    "# R² scores "
   ]
  },
  {
   "cell_type": "code",
   "execution_count": 552,
   "metadata": {},
   "outputs": [
    {
     "data": {
      "text/plain": [
       "0.21524279102717947"
      ]
     },
     "execution_count": 552,
     "metadata": {},
     "output_type": "execute_result"
    }
   ],
   "source": [
    "clf = Ridge(alpha=1.0)\n",
    "clf.fit(X_train, y_train)\n",
    "\n",
    "y_pred = clf.predict(X_test)\n",
    "\n",
    "scores = clf.score(X_test, y_test)\n",
    "scores\n"
   ]
  },
  {
   "cell_type": "code",
   "execution_count": 553,
   "metadata": {},
   "outputs": [
    {
     "data": {
      "image/png": "[encoded data removed]",
      "text/plain": [
       "<Figure size 432x288 with 1 Axes>"
      ]
     },
     "metadata": {},
     "output_type": "display_data"
    }
   ],
   "source": [
    "y_pred = pd.DataFrame(y_pred, index=y_test.index, columns=['Teste'])\n",
    "dr = pd.concat([data_test, y_pred], axis=1)\n",
    "g = sns.scatterplot(x='Teste', y='Conversão_líquida_de_floresta', data=dr, hue=dr.Entidade, legend=False)"
   ]
  },
  {
   "cell_type": "markdown",
   "metadata": {},
   "source": [
    "# Plot da regressão de ridge"
   ]
  },
  {
   "cell_type": "code",
   "execution_count": 554,
   "metadata": {},
   "outputs": [
    {
     "data": {
      "image/png": "[encoded data removed]",
      "text/plain": [
       "<Figure size 432x288 with 1 Axes>"
      ]
     },
     "metadata": {},
     "output_type": "display_data"
    }
   ],
   "source": [
    "g = sns.regplot(x='Conversão_líquida_de_floresta', y='Teste', data=dr)"
   ]
  },
  {
   "cell_type": "code",
   "execution_count": 555,
   "metadata": {},
   "outputs": [
    {
     "data": {
      "image/png": "[encoded data removed]",
      "text/plain": [
       "<Figure size 432x288 with 1 Axes>"
      ]
     },
     "metadata": {},
     "output_type": "display_data"
    }
   ],
   "source": [
    "g = sns.scatterplot(data=y_pred)"
   ]
  },
  {
   "cell_type": "markdown",
   "metadata": {},
   "source": [
    "# 5 split"
   ]
  },
  {
   "cell_type": "code",
   "execution_count": 556,
   "metadata": {},
   "outputs": [
    {
     "name": "stdout",
     "output_type": "stream",
     "text": [
      "0.9887531873290792\n"
     ]
    },
    {
     "data": {
      "text/plain": [
       "<matplotlib.legend.Legend at 0x7fb2cf931e80>"
      ]
     },
     "execution_count": 556,
     "metadata": {},
     "output_type": "execute_result"
    },
    {
     "data": {
      "image/png": "[encoded data removed]",
      "text/plain": [
       "<Figure size 432x288 with 1 Axes>"
      ]
     },
     "metadata": {},
     "output_type": "display_data"
    }
   ],
   "source": [
    "folds = KFold(n_splits = 5)\n",
    "scores = cross_val_score(clf, X_train, y_train, scoring='explained_variance', cv=folds)\n",
    "\n",
    "erro = cross_val_score(clf, X_test, y_test, scoring='neg_root_mean_squared_error', cv=folds)\n",
    "print(np.sqrt(np.mean(abs(erro))))\n",
    "sns.lineplot(data=scores)\n",
    "sns.lineplot(data=erro*(-1))\n",
    "plt.title(\"Gráfico de Cross-Validação\")\n",
    "plt.legend(labels=['Scores', 'Erro'])"
   ]
  },
  {
   "cell_type": "markdown",
   "metadata": {},
   "source": [
    "# 10 split"
   ]
  },
  {
   "cell_type": "code",
   "execution_count": 557,
   "metadata": {},
   "outputs": [
    {
     "name": "stdout",
     "output_type": "stream",
     "text": [
      "0.934375300520584\n"
     ]
    },
    {
     "data": {
      "text/plain": [
       "<matplotlib.legend.Legend at 0x7fb2cfd670d0>"
      ]
     },
     "execution_count": 557,
     "metadata": {},
     "output_type": "execute_result"
    },
    {
     "data": {
      "image/png": "[encoded data removed]",
      "text/plain": [
       "<Figure size 432x288 with 1 Axes>"
      ]
     },
     "metadata": {},
     "output_type": "display_data"
    }
   ],
   "source": [
    "folds = KFold(n_splits = 10)\n",
    "scores = cross_val_score(clf, X_train, y_train, scoring='explained_variance', cv=folds)\n",
    "\n",
    "erro = cross_val_score(clf, X_test, y_test, scoring='neg_root_mean_squared_error', cv=folds)\n",
    "print(np.sqrt(np.mean(abs(erro))))\n",
    "sns.lineplot(data=scores)\n",
    "sns.lineplot(data=erro*(-1))\n",
    "plt.title(\"Gráfico de Cross-Validação\")\n",
    "plt.legend(labels=['Scores', 'Erro'])"
   ]
  },
  {
   "cell_type": "markdown",
   "metadata": {},
   "source": [
    "# PLS regression"
   ]
  },
  {
   "cell_type": "code",
   "execution_count": 558,
   "metadata": {},
   "outputs": [],
   "source": [
    "from sklearn.cross_decomposition import PLSRegression\n",
    "\n",
    "pls = PLSRegression(n_components=2)\n",
    "pls.fit(X_train, y_train)\n",
    "y_pls = pls.predict(X_test)\n"
   ]
  },
  {
   "cell_type": "code",
   "execution_count": 559,
   "metadata": {},
   "outputs": [
    {
     "data": {
      "image/png": "[encoded data removed]",
      "text/plain": [
       "<Figure size 432x288 with 1 Axes>"
      ]
     },
     "metadata": {},
     "output_type": "display_data"
    }
   ],
   "source": [
    "y_prev = pd.DataFrame(y_pls, index=y_test.index, columns=['Teste'])\n",
    "dp = pd.concat([data_test, y_prev], axis=1)\n",
    "g = sns.scatterplot(x='Conversão_líquida_de_floresta', y = 'Teste',data=dp)"
   ]
  },
  {
   "cell_type": "markdown",
   "metadata": {},
   "source": [
    "#  Plot da regressão PLS"
   ]
  },
  {
   "cell_type": "code",
   "execution_count": 560,
   "metadata": {},
   "outputs": [
    {
     "data": {
      "image/png": "[encoded data removed]",
      "text/plain": [
       "<Figure size 432x288 with 1 Axes>"
      ]
     },
     "metadata": {},
     "output_type": "display_data"
    }
   ],
   "source": [
    "g = sns.regplot(x='Conversão_líquida_de_floresta', y = 'Teste',data=dp)"
   ]
  },
  {
   "cell_type": "markdown",
   "metadata": {},
   "source": [
    "# 5 split"
   ]
  },
  {
   "cell_type": "code",
   "execution_count": 561,
   "metadata": {},
   "outputs": [
    {
     "name": "stdout",
     "output_type": "stream",
     "text": [
      "1.0518752875103436\n"
     ]
    },
    {
     "data": {
      "text/plain": [
       "<matplotlib.legend.Legend at 0x7fb2ed5122e0>"
      ]
     },
     "execution_count": 561,
     "metadata": {},
     "output_type": "execute_result"
    },
    {
     "data": {
      "image/png": "[encoded data removed]",
      "text/plain": [
       "<Figure size 432x288 with 1 Axes>"
      ]
     },
     "metadata": {},
     "output_type": "display_data"
    }
   ],
   "source": [
    "folds = KFold(n_splits = 5)\n",
    "scores = cross_val_score(pls, X_train, y_train, scoring='explained_variance', cv=folds)\n",
    "\n",
    "erro = cross_val_score(pls, X_train, y_train, scoring='neg_root_mean_squared_error', cv=folds)\n",
    "print(np.sqrt(np.mean(abs(erro))))\n",
    "sns.lineplot(data=scores)\n",
    "sns.lineplot(data=erro*(-1))\n",
    "plt.title(\"Gráfico de Cross-Validação\")\n",
    "plt.legend(labels=['Scores', 'Erro'])"
   ]
  },
  {
   "cell_type": "markdown",
   "metadata": {},
   "source": [
    "# 10 split"
   ]
  },
  {
   "cell_type": "code",
   "execution_count": 562,
   "metadata": {},
   "outputs": [
    {
     "name": "stdout",
     "output_type": "stream",
     "text": [
      "0.9546200455245814\n"
     ]
    },
    {
     "data": {
      "text/plain": [
       "<matplotlib.legend.Legend at 0x7fb2ed5ba460>"
      ]
     },
     "execution_count": 562,
     "metadata": {},
     "output_type": "execute_result"
    },
    {
     "data": {
      "image/png": "[encoded data removed]",
      "text/plain": [
       "<Figure size 432x288 with 1 Axes>"
      ]
     },
     "metadata": {},
     "output_type": "display_data"
    }
   ],
   "source": [
    "folds = KFold(n_splits = 10)\n",
    "scores = cross_val_score(pls, X_train, y_train, scoring='explained_variance', cv=folds)\n",
    "\n",
    "erro = cross_val_score(pls, X_train, y_train, scoring='neg_root_mean_squared_error', cv=folds)\n",
    "print(np.sqrt(np.mean(abs(erro))))\n",
    "sns.lineplot(data=scores)\n",
    "sns.lineplot(data=erro*(-1))\n",
    "plt.title(\"Gráfico de Cross-Validação\")\n",
    "plt.legend(labels=['Scores', 'Erro'])"
   ]
  },
  {
   "cell_type": "markdown",
   "metadata": {},
   "source": [
    "#                                                       Abordando o problema de forma diferente"
   ]
  },
  {
   "cell_type": "code",
   "execution_count": 563,
   "metadata": {},
   "outputs": [],
   "source": [
    "data = normalizaPelaPop(data)"
   ]
  },
  {
   "cell_type": "markdown",
   "metadata": {},
   "source": [
    "# Normalização dos dados pela população de cada país, assim o modelo irá prever o desmatamento por pessoa"
   ]
  },
  {
   "cell_type": "code",
   "execution_count": 564,
   "metadata": {},
   "outputs": [],
   "source": [
    "br = data[(data[\"Código\"] == \"BRA\") & ((data[\"Ano\"] == 1990) | (data[\"Ano\"] == 2000))]"
   ]
  },
  {
   "cell_type": "code",
   "execution_count": 565,
   "metadata": {},
   "outputs": [
    {
     "data": {
      "text/html": [
       "<div>\n",
       "<style scoped>\n",
       "    .dataframe tbody tr th:only-of-type {\n",
       "        vertical-align: middle;\n",
       "    }\n",
       "\n",
       "    .dataframe tbody tr th {\n",
       "        vertical-align: top;\n",
       "    }\n",
       "\n",
       "    .dataframe thead th {\n",
       "        text-align: right;\n",
       "    }\n",
       "</style>\n",
       "<table border=\"1\" class=\"dataframe\">\n",
       "  <thead>\n",
       "    <tr style=\"text-align: right;\">\n",
       "      <th></th>\n",
       "      <th>Entidade</th>\n",
       "      <th>Código</th>\n",
       "      <th>Ano</th>\n",
       "      <th>Conversão_líquida_de_floresta</th>\n",
       "      <th>Área_de_Floresta</th>\n",
       "      <th>Produção_Óleo</th>\n",
       "      <th>População</th>\n",
       "      <th>Perde</th>\n",
       "    </tr>\n",
       "  </thead>\n",
       "  <tbody>\n",
       "    <tr>\n",
       "      <th>3</th>\n",
       "      <td>Brazil</td>\n",
       "      <td>BRA</td>\n",
       "      <td>2000</td>\n",
       "      <td>-0.022603</td>\n",
       "      <td>7.582534e-08</td>\n",
       "      <td>0.025800</td>\n",
       "      <td>174790339</td>\n",
       "      <td>1</td>\n",
       "    </tr>\n",
       "    <tr>\n",
       "      <th>2</th>\n",
       "      <td>Brazil</td>\n",
       "      <td>BRA</td>\n",
       "      <td>1990</td>\n",
       "      <td>-0.025375</td>\n",
       "      <td>9.329193e-08</td>\n",
       "      <td>0.020967</td>\n",
       "      <td>149003225</td>\n",
       "      <td>1</td>\n",
       "    </tr>\n",
       "  </tbody>\n",
       "</table>\n",
       "</div>"
      ],
      "text/plain": [
       "  Entidade Código   Ano  Conversão_líquida_de_floresta  Área_de_Floresta  \\\n",
       "3   Brazil    BRA  2000                      -0.022603      7.582534e-08   \n",
       "2   Brazil    BRA  1990                      -0.025375      9.329193e-08   \n",
       "\n",
       "   Produção_Óleo  População  Perde  \n",
       "3       0.025800  174790339      1  \n",
       "2       0.020967  149003225      1  "
      ]
     },
     "execution_count": 565,
     "metadata": {},
     "output_type": "execute_result"
    }
   ],
   "source": [
    "br"
   ]
  },
  {
   "cell_type": "code",
   "execution_count": 566,
   "metadata": {},
   "outputs": [],
   "source": [
    "def outilers(df, ft):\n",
    "    Q1 = df[ft].quantile(0.25)\n",
    "    Q3 = df[ft].quantile(0.75)\n",
    "\n",
    "    IQR = Q3 - Q1\n",
    "\n",
    "    l_bound = Q1 - 1.5 * IQR\n",
    "\n",
    "    u_bound = Q3 + 1.5 * IQR\n",
    "\n",
    "    ls = df.index[(df[ft] < l_bound) | (df[ft] > u_bound)]\n",
    "\n",
    "    return ls"
   ]
  },
  {
   "cell_type": "code",
   "execution_count": 567,
   "metadata": {},
   "outputs": [],
   "source": [
    "ls = outilers(data, 'Conversão_líquida_de_floresta')\n",
    "def removeOutliers(df, ls):\n",
    "    df = df.drop(ls)\n",
    "    return df\n",
    "data = removeOutliers(data, ls)"
   ]
  },
  {
   "cell_type": "code",
   "execution_count": 568,
   "metadata": {},
   "outputs": [],
   "source": [
    "data_train = data[(data['Ano'] == 1990) | (data['Ano'] == 2000)]\n",
    "data_test = data[(data['Ano']== 2010)]"
   ]
  },
  {
   "cell_type": "code",
   "execution_count": 569,
   "metadata": {},
   "outputs": [
    {
     "data": {
      "text/plain": [
       "<AxesSubplot:>"
      ]
     },
     "execution_count": 569,
     "metadata": {},
     "output_type": "execute_result"
    },
    {
     "data": {
      "image/png": "[encoded data removed]",
      "text/plain": [
       "<Figure size 432x288 with 1 Axes>"
      ]
     },
     "metadata": {},
     "output_type": "display_data"
    }
   ],
   "source": [
    "data_test.boxplot(['Conversão_líquida_de_floresta'])"
   ]
  },
  {
   "cell_type": "markdown",
   "metadata": {},
   "source": [
    "# Os dados são mais comportados sem fazer nenhuma transformação, então é possível remover os outliers"
   ]
  },
  {
   "cell_type": "code",
   "execution_count": 570,
   "metadata": {},
   "outputs": [],
   "source": [
    "data_string_train, data_value_train,  y_train, target_train = separaData(data)\n",
    "data_string_test, data_value_test,  y_test, target_test = separaData(data_test)\n",
    "data_value_train.drop(columns=['População'], inplace=True)\n",
    "data_value_test.drop(columns=['População'], inplace=True)\n"
   ]
  },
  {
   "cell_type": "code",
   "execution_count": 571,
   "metadata": {},
   "outputs": [],
   "source": [
    "def nomeiaColuna(s, s_aux):\n",
    "    s = pd.DataFrame(s, index=s_aux.index, columns=s_aux.columns)\n",
    "    return s"
   ]
  },
  {
   "cell_type": "code",
   "execution_count": 572,
   "metadata": {},
   "outputs": [],
   "source": [
    "def trataDados(data_value, y):\n",
    "    data_value = tiraDistorcao(data_value)\n",
    "    y, data_y = yeo_johnson(y)\n",
    "    y = nomeiaColuna(y, data_y)\n",
    "    return data_value, y\n"
   ]
  },
  {
   "cell_type": "code",
   "execution_count": 573,
   "metadata": {},
   "outputs": [],
   "source": [
    "X_train, y_train = trataDados(data_value_train, y_train)\n",
    "X_test, y_test = trataDados(data_value_test, y_test)"
   ]
  },
  {
   "cell_type": "code",
   "execution_count": 574,
   "metadata": {},
   "outputs": [
    {
     "data": {
      "text/plain": [
       "LinearRegression()"
      ]
     },
     "execution_count": 574,
     "metadata": {},
     "output_type": "execute_result"
    }
   ],
   "source": [
    "modelo = LinearRegression()\n",
    "modelo.fit(X_train, y_train)"
   ]
  },
  {
   "cell_type": "code",
   "execution_count": 575,
   "metadata": {},
   "outputs": [
    {
     "data": {
      "text/plain": [
       "0.121"
      ]
     },
     "execution_count": 575,
     "metadata": {},
     "output_type": "execute_result"
    }
   ],
   "source": [
    "y_previsto = modelo.predict(X_test)\n",
    "metrics.r2_score(y_test, y_previsto).round(3)\n"
   ]
  },
  {
   "cell_type": "code",
   "execution_count": 576,
   "metadata": {},
   "outputs": [
    {
     "data": {
      "text/plain": [
       "0.12064817012846507"
      ]
     },
     "execution_count": 576,
     "metadata": {},
     "output_type": "execute_result"
    }
   ],
   "source": [
    "pipe = make_pipeline(StandardScaler(), LinearRegression())\n",
    "pipe.fit(X_train, y_train)\n",
    "pipe.score(X_test, y_test)"
   ]
  },
  {
   "cell_type": "code",
   "execution_count": 577,
   "metadata": {},
   "outputs": [
    {
     "data": {
      "image/png": "[encoded data removed]",
      "text/plain": [
       "<Figure size 432x288 with 1 Axes>"
      ]
     },
     "metadata": {},
     "output_type": "display_data"
    }
   ],
   "source": [
    "y_previsto = pd.DataFrame(y_previsto, index=y_test.index, columns=['Teste'])\n",
    "dp = pd.concat([y_test, y_previsto], axis=1)\n",
    "g = sns.scatterplot(x='Conversão_líquida_de_floresta', y= 'Teste',data=dp)"
   ]
  },
  {
   "cell_type": "code",
   "execution_count": 578,
   "metadata": {},
   "outputs": [
    {
     "data": {
      "image/png": "[encoded data removed]",
      "text/plain": [
       "<Figure size 432x288 with 1 Axes>"
      ]
     },
     "metadata": {},
     "output_type": "display_data"
    }
   ],
   "source": [
    "y_previsto = pd.DataFrame(y_previsto, index=y_test.index, columns=['Teste'])\n",
    "dp = pd.concat([data_test, y_previsto], axis=1)\n",
    "dp.Teste = dp.Teste\n",
    "g = sns.scatterplot(x='Conversão_líquida_de_floresta', y= 'Teste',data=dp, hue=dp.Entidade, legend=False)"
   ]
  },
  {
   "cell_type": "markdown",
   "metadata": {},
   "source": [
    "# Plot da regressão linear"
   ]
  },
  {
   "cell_type": "code",
   "execution_count": 579,
   "metadata": {},
   "outputs": [
    {
     "data": {
      "image/png": "[encoded data removed]",
      "text/plain": [
       "<Figure size 432x288 with 1 Axes>"
      ]
     },
     "metadata": {},
     "output_type": "display_data"
    }
   ],
   "source": [
    "g = sns.regplot(x='Conversão_líquida_de_floresta', y='Teste', data=dp)"
   ]
  },
  {
   "cell_type": "code",
   "execution_count": 580,
   "metadata": {},
   "outputs": [
    {
     "data": {
      "text/plain": [
       "0.8793518298715349"
      ]
     },
     "execution_count": 580,
     "metadata": {},
     "output_type": "execute_result"
    }
   ],
   "source": [
    "error = metrics.mean_squared_error(y_test, y_previsto)\n",
    "error"
   ]
  },
  {
   "cell_type": "code",
   "execution_count": 581,
   "metadata": {},
   "outputs": [
    {
     "name": "stdout",
     "output_type": "stream",
     "text": [
      "1.029007328356528\n"
     ]
    },
    {
     "data": {
      "text/plain": [
       "<matplotlib.legend.Legend at 0x7fb2d256e670>"
      ]
     },
     "execution_count": 581,
     "metadata": {},
     "output_type": "execute_result"
    },
    {
     "data": {
      "image/png": "[encoded data removed]",
      "text/plain": [
       "<Figure size 432x288 with 1 Axes>"
      ]
     },
     "metadata": {},
     "output_type": "display_data"
    }
   ],
   "source": [
    "folds = KFold(n_splits = 5)\n",
    "scores = cross_val_score(modelo, X_train, y_train, scoring='explained_variance', cv=folds)\n",
    "\n",
    "erro = cross_val_score(modelo, X_train, y_train, scoring='neg_root_mean_squared_error', cv=folds)\n",
    "print(np.sqrt(np.mean(abs(erro))))\n",
    "sns.lineplot(data=scores)\n",
    "sns.lineplot(data=erro*(-1))\n",
    "plt.title(\"Gráfico de Cross-Validação\")\n",
    "plt.legend(labels=['Scores', 'Erro'])"
   ]
  },
  {
   "cell_type": "code",
   "execution_count": 582,
   "metadata": {},
   "outputs": [
    {
     "name": "stdout",
     "output_type": "stream",
     "text": [
      "0.9709193155220124\n"
     ]
    },
    {
     "data": {
      "text/plain": [
       "<matplotlib.legend.Legend at 0x7fb2d0e24130>"
      ]
     },
     "execution_count": 582,
     "metadata": {},
     "output_type": "execute_result"
    },
    {
     "data": {
      "image/png": "[encoded data removed]",
      "text/plain": [
       "<Figure size 432x288 with 1 Axes>"
      ]
     },
     "metadata": {},
     "output_type": "display_data"
    }
   ],
   "source": [
    "folds = KFold(n_splits = 10)\n",
    "scores = cross_val_score(modelo, X_train, y_train, scoring='r2', cv=folds)\n",
    "\n",
    "erro = cross_val_score(modelo, X_train, y_train, scoring='neg_root_mean_squared_error', cv=folds)\n",
    "print(np.sqrt(np.mean(abs(erro))))\n",
    "sns.lineplot(data=scores)\n",
    "sns.lineplot(data=erro*(-1))\n",
    "plt.title(\"Gráfico de Cross-Validação\")\n",
    "plt.legend(labels=['Scores', 'Erro'])"
   ]
  },
  {
   "cell_type": "markdown",
   "metadata": {},
   "source": [
    "# Rigde Regression"
   ]
  },
  {
   "cell_type": "code",
   "execution_count": 583,
   "metadata": {},
   "outputs": [
    {
     "data": {
      "text/plain": [
       "0.1206197299852464"
      ]
     },
     "execution_count": 583,
     "metadata": {},
     "output_type": "execute_result"
    }
   ],
   "source": [
    "clf = Ridge(alpha=1.0)\n",
    "clf.fit(X_train, y_train)\n",
    "\n",
    "y_pred = clf.predict(X_test)\n",
    "\n",
    "scores = clf.score(X_test, y_test)\n",
    "scores\n"
   ]
  },
  {
   "cell_type": "code",
   "execution_count": 584,
   "metadata": {},
   "outputs": [
    {
     "data": {
      "image/png": "[encoded data removed]",
      "text/plain": [
       "<Figure size 432x288 with 1 Axes>"
      ]
     },
     "metadata": {},
     "output_type": "display_data"
    }
   ],
   "source": [
    "y_pred = pd.DataFrame(y_pred, index=y_test.index, columns=['Teste'])\n",
    "dr = pd.concat([data_test, y_pred], axis=1)\n",
    "g = sns.scatterplot(x='Conversão_líquida_de_floresta', y='Teste', data=dr, hue=dr.Entidade, legend=False)"
   ]
  },
  {
   "cell_type": "markdown",
   "metadata": {},
   "source": [
    "# Plot da regressão de Ridge"
   ]
  },
  {
   "cell_type": "code",
   "execution_count": 585,
   "metadata": {},
   "outputs": [
    {
     "data": {
      "image/png": "[encoded data removed]",
      "text/plain": [
       "<Figure size 432x288 with 1 Axes>"
      ]
     },
     "metadata": {},
     "output_type": "display_data"
    }
   ],
   "source": [
    "g = sns.regplot(x='Conversão_líquida_de_floresta', y='Teste', data=dr)"
   ]
  },
  {
   "cell_type": "markdown",
   "metadata": {},
   "source": [
    "# 5 split"
   ]
  },
  {
   "cell_type": "code",
   "execution_count": 586,
   "metadata": {},
   "outputs": [
    {
     "name": "stdout",
     "output_type": "stream",
     "text": [
      "1.047263029693866\n"
     ]
    },
    {
     "data": {
      "text/plain": [
       "<matplotlib.legend.Legend at 0x7fb2d1d0fb50>"
      ]
     },
     "execution_count": 586,
     "metadata": {},
     "output_type": "execute_result"
    },
    {
     "data": {
      "image/png": "[encoded data removed]",
      "text/plain": [
       "<Figure size 432x288 with 1 Axes>"
      ]
     },
     "metadata": {},
     "output_type": "display_data"
    }
   ],
   "source": [
    "folds = KFold(n_splits = 5)\n",
    "scores = cross_val_score(clf, X_train, y_train, scoring='explained_variance', cv=folds)\n",
    "\n",
    "erro = cross_val_score(clf, X_test, y_test, scoring='neg_root_mean_squared_error', cv=folds)\n",
    "print(np.sqrt(np.mean(abs(erro))))\n",
    "sns.lineplot(data=scores)\n",
    "sns.lineplot(data=erro*(-1))\n",
    "plt.title(\"Gráfico de Cross-Validação\")\n",
    "plt.legend(labels=['Scores', 'Erro'])"
   ]
  },
  {
   "cell_type": "markdown",
   "metadata": {},
   "source": [
    "# 10 split"
   ]
  },
  {
   "cell_type": "code",
   "execution_count": 587,
   "metadata": {},
   "outputs": [
    {
     "name": "stdout",
     "output_type": "stream",
     "text": [
      "0.9925083780388684\n"
     ]
    },
    {
     "data": {
      "text/plain": [
       "<matplotlib.legend.Legend at 0x7fb2d15b6f70>"
      ]
     },
     "execution_count": 587,
     "metadata": {},
     "output_type": "execute_result"
    },
    {
     "data": {
      "image/png": "[encoded data removed]",
      "text/plain": [
       "<Figure size 432x288 with 1 Axes>"
      ]
     },
     "metadata": {},
     "output_type": "display_data"
    }
   ],
   "source": [
    "folds = KFold(n_splits = 10)\n",
    "scores = cross_val_score(clf, X_train, y_train, scoring='explained_variance', cv=folds)\n",
    "\n",
    "erro = cross_val_score(clf, X_test, y_test, scoring='neg_root_mean_squared_error', cv=folds)\n",
    "print(np.sqrt(np.mean(abs(erro))))\n",
    "sns.lineplot(data=scores)\n",
    "sns.lineplot(data=erro*(-1))\n",
    "plt.title(\"Gráfico de Cross-Validação\")\n",
    "plt.legend(labels=['Scores', 'Erro'])"
   ]
  },
  {
   "cell_type": "markdown",
   "metadata": {},
   "source": [
    "# PLS Regression"
   ]
  },
  {
   "cell_type": "code",
   "execution_count": 588,
   "metadata": {},
   "outputs": [],
   "source": [
    "from sklearn.cross_decomposition import PLSRegression\n",
    "\n",
    "pls = PLSRegression(n_components=2)\n",
    "pls.fit(X_train, y_train)\n",
    "y_pls = pls.predict(X_test)"
   ]
  },
  {
   "cell_type": "code",
   "execution_count": 589,
   "metadata": {},
   "outputs": [
    {
     "data": {
      "image/png": "[encoded data removed]",
      "text/plain": [
       "<Figure size 432x288 with 1 Axes>"
      ]
     },
     "metadata": {},
     "output_type": "display_data"
    }
   ],
   "source": [
    "y_prev = pd.DataFrame(y_pls, index=y_test.index, columns=['Teste'])\n",
    "dp = pd.concat([data_test, y_prev], axis=1)\n",
    "g = sns.scatterplot(x='Conversão_líquida_de_floresta', y = 'Teste',data=dp, hue=dp.Entidade, legend=False)"
   ]
  },
  {
   "cell_type": "markdown",
   "metadata": {},
   "source": [
    "# Plot da regressão PLS"
   ]
  },
  {
   "cell_type": "code",
   "execution_count": 590,
   "metadata": {},
   "outputs": [
    {
     "data": {
      "image/png": "[encoded data removed]",
      "text/plain": [
       "<Figure size 432x288 with 1 Axes>"
      ]
     },
     "metadata": {},
     "output_type": "display_data"
    }
   ],
   "source": [
    "g = sns.regplot(x='Conversão_líquida_de_floresta', y = 'Teste',data=dp)"
   ]
  },
  {
   "cell_type": "markdown",
   "metadata": {},
   "source": [
    "# 5 split"
   ]
  },
  {
   "cell_type": "code",
   "execution_count": 591,
   "metadata": {},
   "outputs": [
    {
     "name": "stdout",
     "output_type": "stream",
     "text": [
      "1.029007328356528\n"
     ]
    },
    {
     "data": {
      "text/plain": [
       "<matplotlib.legend.Legend at 0x7fb2d054bfa0>"
      ]
     },
     "execution_count": 591,
     "metadata": {},
     "output_type": "execute_result"
    },
    {
     "data": {
      "image/png": "[encoded data removed]",
      "text/plain": [
       "<Figure size 432x288 with 1 Axes>"
      ]
     },
     "metadata": {},
     "output_type": "display_data"
    }
   ],
   "source": [
    "folds = KFold(n_splits = 5)\n",
    "scores = cross_val_score(pls, X_train, y_train, scoring='explained_variance', cv=folds)\n",
    "\n",
    "erro = cross_val_score(pls, X_train, y_train, scoring='neg_root_mean_squared_error', cv=folds)\n",
    "print(np.sqrt(np.mean(abs(erro))))\n",
    "sns.lineplot(data=scores)\n",
    "sns.lineplot(data=erro*(-1))\n",
    "plt.title(\"Gráfico de Cross-Validação\")\n",
    "plt.legend(labels=['Scores', 'Erro'])"
   ]
  },
  {
   "cell_type": "markdown",
   "metadata": {},
   "source": [
    "# 10 split"
   ]
  },
  {
   "cell_type": "code",
   "execution_count": 592,
   "metadata": {},
   "outputs": [
    {
     "name": "stdout",
     "output_type": "stream",
     "text": [
      "0.9709193155220124\n"
     ]
    },
    {
     "data": {
      "text/plain": [
       "<matplotlib.legend.Legend at 0x7fb2ed64b340>"
      ]
     },
     "execution_count": 592,
     "metadata": {},
     "output_type": "execute_result"
    },
    {
     "data": {
      "image/png": "[encoded data removed]",
      "text/plain": [
       "<Figure size 432x288 with 1 Axes>"
      ]
     },
     "metadata": {},
     "output_type": "display_data"
    }
   ],
   "source": [
    "folds = KFold(n_splits = 10)\n",
    "scores = cross_val_score(pls, X_train, y_train, scoring='explained_variance', cv=folds)\n",
    "\n",
    "erro = cross_val_score(pls, X_train, y_train, scoring='neg_root_mean_squared_error', cv=folds)\n",
    "print(np.sqrt(np.mean(abs(erro))))\n",
    "sns.lineplot(data=scores)\n",
    "sns.lineplot(data=erro*(-1))\n",
    "plt.title(\"Gráfico de Cross-Validação\")\n",
    "plt.legend(labels=['Scores', 'Erro'])"
   ]
  }
 ],
 "metadata": {
  "interpreter": {
   "hash": "c74d70a092a6d51bcf3e13994450be995c2b1e9f9578e3785a679f957e0f2293"
  },
  "kernelspec": {
   "display_name": "Python 3.8.11 64-bit ('myenv': conda)",
   "name": "python3"
  },
  "language_info": {
   "codemirror_mode": {
    "name": "ipython",
    "version": 3
   },
   "file_extension": ".py",
   "mimetype": "text/x-python",
   "name": "python",
   "nbconvert_exporter": "python",
   "pygments_lexer": "ipython3",
   "version": "3.8.11"
  },
  "orig_nbformat": 4
 },
 "nbformat": 4,
 "nbformat_minor": 2
}
