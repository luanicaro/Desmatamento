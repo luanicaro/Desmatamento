{
 "cells": [
  {
   "cell_type": "markdown",
   "metadata": {},
   "source": [
    "# DATASETS "
   ]
  },
  {
   "cell_type": "code",
   "execution_count": 60,
   "metadata": {},
   "outputs": [],
   "source": [
    "import pandas as pd \n",
    "\n",
    "forest = pd.read_csv('./csv/forest.csv', sep = ',')\n",
    "forest_area = pd.read_csv('./csv/forest_area.csv', sep = ',')\n",
    "brazil_loss = pd.read_csv('./csv/brazil_loss.csv', sep = ',')\n",
    "soybean_use = pd.read_csv('./csv/soybean_use.csv', sep = ',')\n",
    "vegetable_oil = pd.read_csv('./csv/vegetable_oil.csv', sep = ',')\n",
    "population = pd.read_csv('./csv/population.csv')\n",
    "population.dropna(inplace=True)\n",
    "import warnings\n",
    "warnings.filterwarnings(\"ignore\")"
   ]
  },
  {
   "cell_type": "markdown",
   "metadata": {},
   "source": [
    "# Mudando os nomes das Colunas "
   ]
  },
  {
   "cell_type": "code",
   "execution_count": 61,
   "metadata": {},
   "outputs": [],
   "source": [
    "dict = {'entity':'Entidade',\n",
    "        'code':'Código',\n",
    "        'year':'Ano',\n",
    "        'commercial_crops':'Colheitas',\n",
    "        'flooding_due_to_dams':'Inundação_p_Represas', \n",
    "        'natural_disturbances':'Desastres',\n",
    "        'pasture':'Pastos',\n",
    "        'selective_logging':'Desmatamento_Legal',\n",
    "        'fire':'Queimadas',\n",
    "        'mining':'Mineração',\n",
    "        'other_infrastructure':'Infraestruturas',\n",
    "        'roads':'Estradas',\n",
    "        'tree_plantations_including_palm':'Plantações',\n",
    "        'small_scale_clearing':'Pequenos_Desmatamentos'}\n",
    "brazil_loss.rename(columns = dict, inplace= True)\n",
    "\n"
   ]
  },
  {
   "cell_type": "code",
   "execution_count": 62,
   "metadata": {},
   "outputs": [],
   "source": [
    "dict_forest = {\n",
    "    'entity':'Entidade',\n",
    "    'code':'Código',\n",
    "    'year':'Ano',\n",
    "    'net_forest_conversion':'Conversão_líquida_de_floresta',\n",
    "}\n",
    "forest.rename(columns = dict_forest, inplace=True)"
   ]
  },
  {
   "cell_type": "code",
   "execution_count": 63,
   "metadata": {},
   "outputs": [],
   "source": [
    "dict_forest_area = {\n",
    "    'entity':'Entidade',\n",
    "    'code':'Código',\n",
    "    'year':'Ano',\n",
    "    'forest_area':'Área_de_Floresta',\n",
    "}\n",
    "forest_area.rename(columns=dict_forest_area, inplace=True)"
   ]
  },
  {
   "cell_type": "code",
   "execution_count": 64,
   "metadata": {},
   "outputs": [],
   "source": [
    "dict_soybean_use={\n",
    "    'entity':'Entidade',\n",
    "    'code':'Código',\n",
    "    'year':'Ano',\n",
    "    'human_food':'Comida',\n",
    "    'animal_feed':'Pasto',\n",
    "    'processed':'Processados'\n",
    "}\n",
    "soybean_use.rename(columns=dict_soybean_use,inplace=True)"
   ]
  },
  {
   "cell_type": "code",
   "execution_count": 65,
   "metadata": {},
   "outputs": [],
   "source": [
    "dict_vegetable_oil={\n",
    "    'entity':'Entidade',\n",
    "    'code':'Código',\n",
    "    'year':'Ano',\n",
    "    'crop_oil':'Óleo_de_colheita',\n",
    "    'Produção':'Produção_Óleo'\n",
    "}\n",
    "vegetable_oil.rename(columns=dict_vegetable_oil,inplace=True)\n"
   ]
  },
  {
   "cell_type": "code",
   "execution_count": 66,
   "metadata": {},
   "outputs": [],
   "source": [
    "population.dropna(inplace=True)\n",
    "dict_population={\n",
    "    'Country Name':'Entidade',\n",
    "    'Country Code':'Código',\n",
    "    '1990 [YR1990]':'1990',\n",
    "    '2000 [YR2000]':'2000',\n",
    "    '2010 [YR2010]':'2010',\n",
    "    '2015 [YR2015]':'2015'\n",
    "\n",
    "}\n",
    "\n"
   ]
  },
  {
   "cell_type": "code",
   "execution_count": 67,
   "metadata": {},
   "outputs": [],
   "source": [
    "forest.to_csv('./csv/forest.csv', index=False)\n",
    "forest_area.to_csv('./csv/forest_area.csv', index=False)\n",
    "brazil_loss.to_csv('./csv/brazil_loss.csv',index=False)\n",
    "soybean_use.to_csv('./csv/soybean_use.csv',index=False)\n",
    "vegetable_oil.to_csv('./csv/vegetable_oil.csv',index=False)\n"
   ]
  }
 ],
 "metadata": {
  "interpreter": {
   "hash": "c74d70a092a6d51bcf3e13994450be995c2b1e9f9578e3785a679f957e0f2293"
  },
  "kernelspec": {
   "display_name": "Python 3.8.11 64-bit ('myenv': conda)",
   "name": "python3"
  },
  "language_info": {
   "codemirror_mode": {
    "name": "ipython",
    "version": 3
   },
   "file_extension": ".py",
   "mimetype": "text/x-python",
   "name": "python",
   "nbconvert_exporter": "python",
   "pygments_lexer": "ipython3",
   "version": "3.8.11"
  },
  "orig_nbformat": 4
 },
 "nbformat": 4,
 "nbformat_minor": 2
}
